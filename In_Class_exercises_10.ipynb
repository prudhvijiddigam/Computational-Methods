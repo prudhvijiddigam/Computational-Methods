{
  "nbformat": 4,
  "nbformat_minor": 0,
  "metadata": {
    "kernelspec": {
      "display_name": "Python 3",
      "language": "python",
      "name": "python3"
    },
    "language_info": {
      "codemirror_mode": {
        "name": "ipython",
        "version": 3
      },
      "file_extension": ".py",
      "mimetype": "text/x-python",
      "name": "python",
      "nbconvert_exporter": "python",
      "pygments_lexer": "ipython3",
      "version": "3.8.5"
    },
    "colab": {
      "name": "In_Class_exercises-10.ipynb",
      "provenance": [],
      "include_colab_link": true
    }
  },
  "cells": [
    {
      "cell_type": "markdown",
      "metadata": {
        "id": "view-in-github",
        "colab_type": "text"
      },
      "source": [
        "<a href=\"https://colab.research.google.com/github/prudhvijiddigam/Computational-Methods/blob/main/In_Class_exercises_10.ipynb\" target=\"_parent\"><img src=\"https://colab.research.google.com/assets/colab-badge.svg\" alt=\"Open In Colab\"/></a>"
      ]
    },
    {
      "cell_type": "markdown",
      "metadata": {
        "id": "dCp_77zoyb9B"
      },
      "source": [
        "# In class exercise 10 (20 points in total, 4/16/2021)"
      ]
    },
    {
      "cell_type": "markdown",
      "metadata": {
        "id": "rABUw9ssyb9K"
      },
      "source": [
        "The purpose of the exercise is to practice different machine learning algorithms for text clustering\n",
        "Please downlad the dataset by using the following link.  https://www.kaggle.com/PromptCloudHQ/amazon-reviews-unlocked-mobile-phones\n",
        "(You can also use different text data which you want)\n",
        "\n",
        "Apply the listed clustering methods to the dataset:\n",
        "\n",
        "K means, \n",
        "DBSCAN,\n",
        "Hierarchical clustering. \n",
        "\n",
        "You can refer to of the codes from  the follwing link below. \n",
        "https://www.kaggle.com/karthik3890/text-clustering \n",
        "    "
      ]
    },
    {
      "cell_type": "code",
      "metadata": {
        "colab": {
          "base_uri": "https://localhost:8080/",
          "height": 306
        },
        "id": "2XgCmk5Zyb9L",
        "outputId": "85d2bf63-343d-4a06-8a61-390ec61b67c5"
      },
      "source": [
        "#Write your code here.\n",
        "\n",
        "import re\n",
        "import nltk\n",
        "import random\n",
        "\n",
        "import pandas as pd\n",
        "import numpy as np\n",
        "import matplotlib.pyplot as plt\n",
        "from bs4 import BeautifulSoup\n",
        "from nltk.corpus import stopwords\n",
        "from nltk.stem.porter import PorterStemmer\n",
        "english_stemmer=nltk.stem.SnowballStemmer('english')\n",
        "%matplotlib inline\n",
        "dataset = pd.read_csv(r'/content/Amazon_Unlocked_Mobile.csv')\n",
        "\n",
        "dataset.head()"
      ],
      "execution_count": 3,
      "outputs": [
        {
          "output_type": "execute_result",
          "data": {
            "text/html": [
              "<div>\n",
              "<style scoped>\n",
              "    .dataframe tbody tr th:only-of-type {\n",
              "        vertical-align: middle;\n",
              "    }\n",
              "\n",
              "    .dataframe tbody tr th {\n",
              "        vertical-align: top;\n",
              "    }\n",
              "\n",
              "    .dataframe thead th {\n",
              "        text-align: right;\n",
              "    }\n",
              "</style>\n",
              "<table border=\"1\" class=\"dataframe\">\n",
              "  <thead>\n",
              "    <tr style=\"text-align: right;\">\n",
              "      <th></th>\n",
              "      <th>Product Name</th>\n",
              "      <th>Brand Name</th>\n",
              "      <th>Price</th>\n",
              "      <th>Rating</th>\n",
              "      <th>Reviews</th>\n",
              "      <th>Review Votes</th>\n",
              "    </tr>\n",
              "  </thead>\n",
              "  <tbody>\n",
              "    <tr>\n",
              "      <th>0</th>\n",
              "      <td>\"CLEAR CLEAN ESN\" Sprint EPIC 4G Galaxy SPH-D7...</td>\n",
              "      <td>Samsung</td>\n",
              "      <td>199.99</td>\n",
              "      <td>5</td>\n",
              "      <td>I feel so LUCKY to have found this used (phone...</td>\n",
              "      <td>1.0</td>\n",
              "    </tr>\n",
              "    <tr>\n",
              "      <th>1</th>\n",
              "      <td>\"CLEAR CLEAN ESN\" Sprint EPIC 4G Galaxy SPH-D7...</td>\n",
              "      <td>Samsung</td>\n",
              "      <td>199.99</td>\n",
              "      <td>4</td>\n",
              "      <td>nice phone, nice up grade from my pantach revu...</td>\n",
              "      <td>0.0</td>\n",
              "    </tr>\n",
              "    <tr>\n",
              "      <th>2</th>\n",
              "      <td>\"CLEAR CLEAN ESN\" Sprint EPIC 4G Galaxy SPH-D7...</td>\n",
              "      <td>Samsung</td>\n",
              "      <td>199.99</td>\n",
              "      <td>5</td>\n",
              "      <td>Very pleased</td>\n",
              "      <td>0.0</td>\n",
              "    </tr>\n",
              "    <tr>\n",
              "      <th>3</th>\n",
              "      <td>\"CLEAR CLEAN ESN\" Sprint EPIC 4G Galaxy SPH-D7...</td>\n",
              "      <td>Samsung</td>\n",
              "      <td>199.99</td>\n",
              "      <td>4</td>\n",
              "      <td>It works good but it goes slow sometimes but i...</td>\n",
              "      <td>0.0</td>\n",
              "    </tr>\n",
              "    <tr>\n",
              "      <th>4</th>\n",
              "      <td>\"CLEAR CLEAN ESN\" Sprint EPIC 4G Galaxy SPH-D7...</td>\n",
              "      <td>Samsung</td>\n",
              "      <td>199.99</td>\n",
              "      <td>4</td>\n",
              "      <td>Great phone to replace my lost phone. The only...</td>\n",
              "      <td>0.0</td>\n",
              "    </tr>\n",
              "  </tbody>\n",
              "</table>\n",
              "</div>"
            ],
            "text/plain": [
              "                                        Product Name  ... Review Votes\n",
              "0  \"CLEAR CLEAN ESN\" Sprint EPIC 4G Galaxy SPH-D7...  ...          1.0\n",
              "1  \"CLEAR CLEAN ESN\" Sprint EPIC 4G Galaxy SPH-D7...  ...          0.0\n",
              "2  \"CLEAR CLEAN ESN\" Sprint EPIC 4G Galaxy SPH-D7...  ...          0.0\n",
              "3  \"CLEAR CLEAN ESN\" Sprint EPIC 4G Galaxy SPH-D7...  ...          0.0\n",
              "4  \"CLEAR CLEAN ESN\" Sprint EPIC 4G Galaxy SPH-D7...  ...          0.0\n",
              "\n",
              "[5 rows x 6 columns]"
            ]
          },
          "metadata": {
            "tags": []
          },
          "execution_count": 3
        }
      ]
    },
    {
      "cell_type": "code",
      "metadata": {
        "colab": {
          "base_uri": "https://localhost:8080/"
        },
        "id": "TAoRPOkhz_je",
        "outputId": "9a80fe64-0c61-4e29-a7a6-8831680e73a1"
      },
      "source": [
        "print(f'Number of reviews {dataset.shape[0]}')\n",
        "dataset.isnull().sum()"
      ],
      "execution_count": 4,
      "outputs": [
        {
          "output_type": "stream",
          "text": [
            "Number of reviews 413840\n"
          ],
          "name": "stdout"
        },
        {
          "output_type": "execute_result",
          "data": {
            "text/plain": [
              "Product Name        0\n",
              "Brand Name      65171\n",
              "Price            5933\n",
              "Rating              0\n",
              "Reviews            62\n",
              "Review Votes    12296\n",
              "dtype: int64"
            ]
          },
          "metadata": {
            "tags": []
          },
          "execution_count": 4
        }
      ]
    },
    {
      "cell_type": "code",
      "metadata": {
        "colab": {
          "base_uri": "https://localhost:8080/"
        },
        "id": "DRx44FhvjWMS",
        "outputId": "0199bb57-9600-4c3f-cf24-f069ff760830"
      },
      "source": [
        "dataset['Reviews'].head()"
      ],
      "execution_count": 5,
      "outputs": [
        {
          "output_type": "execute_result",
          "data": {
            "text/plain": [
              "0    I feel so LUCKY to have found this used (phone...\n",
              "1    nice phone, nice up grade from my pantach revu...\n",
              "2                                         Very pleased\n",
              "3    It works good but it goes slow sometimes but i...\n",
              "4    Great phone to replace my lost phone. The only...\n",
              "Name: Reviews, dtype: object"
            ]
          },
          "metadata": {
            "tags": []
          },
          "execution_count": 5
        }
      ]
    },
    {
      "cell_type": "code",
      "metadata": {
        "colab": {
          "base_uri": "https://localhost:8080/"
        },
        "id": "l86ONUmXjqMX",
        "outputId": "6f150aac-3e9d-4e1a-c342-843890c4d68b"
      },
      "source": [
        "import re\n",
        "dataset['Reviews']=dataset['Reviews'].map(lambda x: re.sub('[?|!|\\'|\"|#]', '', str(x)))\n",
        "dataset['Reviews']=dataset['Reviews'].map(lambda x: x.lower())\n",
        "dataset['Reviews'].head()"
      ],
      "execution_count": 6,
      "outputs": [
        {
          "output_type": "execute_result",
          "data": {
            "text/plain": [
              "0    i feel so lucky to have found this used (phone...\n",
              "1    nice phone, nice up grade from my pantach revu...\n",
              "2                                         very pleased\n",
              "3    it works good but it goes slow sometimes but i...\n",
              "4    great phone to replace my lost phone. the only...\n",
              "Name: Reviews, dtype: object"
            ]
          },
          "metadata": {
            "tags": []
          },
          "execution_count": 6
        }
      ]
    },
    {
      "cell_type": "code",
      "metadata": {
        "id": "vUBeCPwo0hWa"
      },
      "source": [
        "def tolist( review, remove_stopwords=True):\n",
        "    \n",
        "    text = re.sub(\"[^a-zA-Z]\",\" \", review)\n",
        "    words = text.lower().split()    \n",
        "    if remove_stopwords:\n",
        "        stops = set(stopwords.words(\"english\"))\n",
        "        words = [w for w in words if not w in stops]\n",
        "    x=[]\n",
        "    stemmer = english_stemmer \n",
        "    for word in words:\n",
        "        x.append(stemmer.stem(word))\n",
        "    return(x)"
      ],
      "execution_count": 7,
      "outputs": []
    },
    {
      "cell_type": "code",
      "metadata": {
        "colab": {
          "base_uri": "https://localhost:8080/"
        },
        "id": "hCBHL1OaJyLL",
        "outputId": "b2745056-cbec-4c40-dc8e-a4e78abdd87b"
      },
      "source": [
        "import nltk\n",
        "nltk.download('stopwords')\n",
        "clean_data_reviews = []\n",
        "for review in dataset['Reviews']:\n",
        "    clean_data_reviews.append( \" \".join(tolist(review)))"
      ],
      "execution_count": 9,
      "outputs": [
        {
          "output_type": "stream",
          "text": [
            "[nltk_data] Downloading package stopwords to /root/nltk_data...\n",
            "[nltk_data]   Package stopwords is already up-to-date!\n"
          ],
          "name": "stdout"
        }
      ]
    },
    {
      "cell_type": "code",
      "metadata": {
        "colab": {
          "base_uri": "https://localhost:8080/"
        },
        "id": "Yvlk93mU0hfF",
        "outputId": "e57d333e-fefc-43d1-d361-ffd1b0cd33a1"
      },
      "source": [
        "from sklearn.feature_extraction.text import TfidfVectorizer\n",
        "from sklearn.cluster import KMeans\n",
        "from sklearn.metrics import adjusted_rand_score\n",
        "\n",
        "vectors = TfidfVectorizer(stop_words='english')\n",
        "S = vectors.fit_transform(clean_data_reviews)\n",
        "true_k = 10\n",
        "text = KMeans(n_clusters=true_k, init='k-means++', max_iter=100, n_init=1)\n",
        "text.fit(S)\n",
        "\n",
        "print(\"most repeated words in cluster:\")\n",
        "order_centroids = text.cluster_centers_.argsort()[:, ::-1]\n",
        "terms = vectors.get_feature_names()\n",
        "for i in range(true_k):\n",
        "    print(\"Cluster %d:\" % i),\n",
        "    for ind in order_centroids[i, :10]:\n",
        "        print(' %s' % terms[ind]),\n",
        "    print\n",
        "\n",
        "print(\"\\n\")\n",
        "print(\"analysis\")\n"
      ],
      "execution_count": 10,
      "outputs": [
        {
          "output_type": "stream",
          "text": [
            "most repeated words in cluster:\n",
            "Cluster 0:\n",
            " thank\n",
            " good\n",
            " excel\n",
            " great\n",
            " product\n",
            " love\n",
            " phone\n",
            " perfect\n",
            " work\n",
            " everyth\n",
            "Cluster 1:\n",
            " work\n",
            " great\n",
            " phone\n",
            " perfect\n",
            " fine\n",
            " good\n",
            " stop\n",
            " didnt\n",
            " doesnt\n",
            " condit\n",
            "Cluster 2:\n",
            " great\n",
            " excelent\n",
            " phone\n",
            " product\n",
            " price\n",
            " producto\n",
            " condit\n",
            " buy\n",
            " deal\n",
            " seller\n",
            "Cluster 3:\n",
            " phone\n",
            " use\n",
            " great\n",
            " good\n",
            " batteri\n",
            " work\n",
            " love\n",
            " screen\n",
            " nice\n",
            " price\n",
            "Cluster 4:\n",
            " excel\n",
            " product\n",
            " phone\n",
            " recommend\n",
            " good\n",
            " seller\n",
            " condit\n",
            " price\n",
            " love\n",
            " great\n",
            "Cluster 5:\n",
            " good\n",
            " phone\n",
            " product\n",
            " price\n",
            " work\n",
            " far\n",
            " qualiti\n",
            " realli\n",
            " buy\n",
            " condit\n",
            "Cluster 6:\n",
            " ok\n",
            " everyth\n",
            " phone\n",
            " good\n",
            " thank\n",
            " price\n",
            " product\n",
            " far\n",
            " work\n",
            " expect\n",
            "Cluster 7:\n",
            " like\n",
            " phone\n",
            " new\n",
            " work\n",
            " look\n",
            " realli\n",
            " good\n",
            " great\n",
            " brand\n",
            " dont\n",
            "Cluster 8:\n",
            " love\n",
            " phone\n",
            " great\n",
            " daughter\n",
            " new\n",
            " wife\n",
            " son\n",
            " good\n",
            " nice\n",
            " work\n",
            "Cluster 9:\n",
            " perfect\n",
            " product\n",
            " good\n",
            " nice\n",
            " expect\n",
            " phone\n",
            " work\n",
            " use\n",
            " great\n",
            " love\n",
            "\n",
            "\n",
            "analysis\n"
          ],
          "name": "stdout"
        }
      ]
    },
    {
      "cell_type": "code",
      "metadata": {
        "colab": {
          "base_uri": "https://localhost:8080/"
        },
        "id": "uabBJZVj46sM",
        "outputId": "244029b2-8629-4ab1-db55-8c96c15412c8"
      },
      "source": [
        "Y = vectors.transform([\"the phone works good\"])\n",
        "analysis = text.predict(Y)\n",
        "print(analysis)\n",
        "\n",
        "Y = vectors.transform([\"great phone to use\"])\n",
        "analysis = text.predict(Y)\n",
        "print(analysis)"
      ],
      "execution_count": 16,
      "outputs": [
        {
          "output_type": "stream",
          "text": [
            "[5]\n",
            "[2]\n"
          ],
          "name": "stdout"
        }
      ]
    },
    {
      "cell_type": "code",
      "metadata": {
        "id": "dC0lk5L95ukH"
      },
      "source": [
        "DB SCAN"
      ],
      "execution_count": null,
      "outputs": []
    },
    {
      "cell_type": "code",
      "metadata": {
        "id": "KSrhSFZ1ztIB"
      },
      "source": [
        "from sklearn.cluster import DBSCAN\n",
        "import numpy as np\n",
        "import matplotlib.pyplot as plt\n",
        "import gensim"
      ],
      "execution_count": 11,
      "outputs": []
    },
    {
      "cell_type": "code",
      "metadata": {
        "id": "jUjObnFV3yRL"
      },
      "source": [
        "Reviews_data=[]\n",
        "for t in dataset['Reviews']:\n",
        "  Reviews_data.append(t.split())\n",
        "import gensim\n",
        "w2v_model=gensim.models.Word2Vec(Reviews_data, size=10, workers=4)"
      ],
      "execution_count": 15,
      "outputs": []
    },
    {
      "cell_type": "code",
      "metadata": {
        "colab": {
          "base_uri": "https://localhost:8080/"
        },
        "id": "6K7Seory2DUr",
        "outputId": "670d30cf-35e3-4dea-f250-00a85f0f2127"
      },
      "source": [
        "data_vectors = []\n",
        "for t in Reviews_data:\n",
        "    vector = np.zeros(100)\n",
        "    words = 0\n",
        "    for word in t:\n",
        "        try:\n",
        "            vec = w2v_model.wv[word]\n",
        "            vector += vec\n",
        "            words += 1\n",
        "        except:\n",
        "            pass\n",
        "    vector /= words\n",
        "    data_vectors.append(vector)\n",
        "    \n",
        "data_vectors = np.array(data_vectors)\n",
        "data_vectors = np.nan_to_num(data_vectors)"
      ],
      "execution_count": 17,
      "outputs": [
        {
          "output_type": "stream",
          "text": [
            "/usr/local/lib/python3.7/dist-packages/ipykernel_launcher.py:12: RuntimeWarning: invalid value encountered in true_divide\n",
            "  if sys.path[0] == '':\n"
          ],
          "name": "stderr"
        }
      ]
    },
    {
      "cell_type": "code",
      "metadata": {
        "id": "b6nxzvTY5aZm"
      },
      "source": [
        "from sklearn.cluster import DBSCAN\n",
        "minPts = 2 * 100\n",
        "\n",
        "def lower_bound(nums, target): \n",
        "    l, r = 0, len(nums) - 1\n",
        "    while l <= r: # Binary searching.\n",
        "        mid = int(l + (r - l) / 2)\n",
        "        if nums[mid] >= target:\n",
        "            r = mid - 1\n",
        "        else:\n",
        "            l = mid + 1\n",
        "    return l\n",
        "def compute200thnearestneighbour(x, data): # Returns the distance of 200th nearest neighbour.\n",
        "    dists = []\n",
        "    for val in data:\n",
        "        dist = np.sum((x - val) **2 ) # computing distances.\n",
        "        if(len(dists) == 200 and dists[199] > dist): # If distance is larger than current largest distance found.\n",
        "            l = int(lower_bound(dists, dist)) # Using the lower bound function to get the right position.\n",
        "            if l < 200 and l >= 0 and dists[l] > dist:\n",
        "                dists[l] = dist\n",
        "        else:\n",
        "            dists.append(dist)\n",
        "            dists.sort()\n",
        "    \n",
        "    return dists[199] "
      ],
      "execution_count": 22,
      "outputs": []
    },
    {
      "cell_type": "code",
      "metadata": {
        "colab": {
          "base_uri": "https://localhost:8080/"
        },
        "id": "tZ3qSTUL4uJC",
        "outputId": "6040879e-43c1-4ad1-b269-e14cefbddeec"
      },
      "source": [
        "data_vectors.shape"
      ],
      "execution_count": 23,
      "outputs": [
        {
          "output_type": "execute_result",
          "data": {
            "text/plain": [
              "(413840, 100)"
            ]
          },
          "metadata": {
            "tags": []
          },
          "execution_count": 23
        }
      ]
    },
    {
      "cell_type": "code",
      "metadata": {
        "id": "c1ac5G3m5Jid"
      },
      "source": [
        "twohundrethneigh = []\n",
        "for val in data_vectors[:500]:\n",
        "    twohundrethneigh.append( compute200thnearestneighbour(val, data_vectors[:500]))\n",
        "twohundrethneigh.sort()"
      ],
      "execution_count": 24,
      "outputs": []
    },
    {
      "cell_type": "code",
      "metadata": {
        "colab": {
          "base_uri": "https://localhost:8080/",
          "height": 295
        },
        "id": "8fXvZZSK5fO3",
        "outputId": "866a15dc-7f22-4acc-f917-1d330d69fca8"
      },
      "source": [
        "plt.figure(figsize=(14,4))\n",
        "plt.title(\"Elbow Method for Finding the right Eps hyperparameter\")\n",
        "plt.plot([x for x in range(len(twohundrethneigh))], twohundrethneigh)\n",
        "plt.xlabel(\"Number of points\")\n",
        "plt.ylabel(\"Distance of 200th Nearest Neighbour\")\n",
        "plt.show()"
      ],
      "execution_count": 25,
      "outputs": [
        {
          "output_type": "display_data",
          "data": {
            "image/png": "[encoded data removed]",
            "text/plain": [
              "<Figure size 1008x288 with 1 Axes>"
            ]
          },
          "metadata": {
            "tags": [],
            "needs_background": "light"
          }
        }
      ]
    },
    {
      "cell_type": "code",
      "metadata": {
        "id": "ZGAvG_pt7gEu"
      },
      "source": [
        "HIERARCHIAL CLUSTERRING\n"
      ],
      "execution_count": null,
      "outputs": []
    },
    {
      "cell_type": "code",
      "metadata": {
        "id": "4bRIa9om7ktc"
      },
      "source": [
        "from sklearn.feature_extraction.text import CountVectorizer\n",
        "from sklearn.metrics.pairwise import cosine_similarity\n",
        "from sklearn.cluster import AgglomerativeClustering\n",
        "from scipy.cluster.hierarchy import ward, dendrogram\n",
        "import matplotlib.pyplot as plt\n",
        "vectorizer = CountVectorizer(stop_words='english') \n",
        "dtm2 = vectorizer.fit_transform(clean_data_reviews) \n",
        "vocab2 = vectorizer.get_feature_names()\n",
        "dtm2 = dtm2.toarray()\n",
        "cos_dist2 = 1 - cosine_similarity(dtm2)\n",
        "linkage_matrix2 = ward(cos_dist2)\n",
        "dendrogram(linkage_matrix2, color_threshold=0.6*max(linkage_matrix2[:,2]), orientation=\"right\")\n",
        "plt.tight_layout()\n",
        "plt.show()"
      ],
      "execution_count": null,
      "outputs": []
    },
    {
      "cell_type": "code",
      "metadata": {
        "id": "tFCSuWVW8M94"
      },
      "source": [
        ""
      ],
      "execution_count": null,
      "outputs": []
    },
    {
      "cell_type": "markdown",
      "metadata": {
        "id": "qyGT39gEyb9L"
      },
      "source": [
        "In one paragraph, please compare K means, DBSCAN and Hierarchical clustering. "
      ]
    },
    {
      "cell_type": "code",
      "metadata": {
        "id": "PYIXHr-wyb9M"
      },
      "source": [
        "#You can write you answer here.\n",
        "\n",
        "## K-means is a clustering algorithm that uses centroid based or partion based clustering. The algorithm divides the sample \n",
        "space into K groups based on their similarity. The euclidian distance is used to access similarity.DBScan is a clustering algorithm depends\n",
        "on density. The main feature of this algorithm is that each point is acluster must have minimum number of neighbours\n",
        "within a given radius.The alogorithm is shown to be very effective at identifying outliers and noises.Hierarchial\n",
        "clustering is a algorithm that divides objects into clusters based on their similarity.The endpoint is a set of clusters, \n",
        "each of which is distinct from others while articrafts within cluster are broadly identified. \n"
      ],
      "execution_count": null,
      "outputs": []
    }
  ]
}