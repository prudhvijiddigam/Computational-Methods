{
  "nbformat": 4,
  "nbformat_minor": 0,
  "metadata": {
    "colab": {
      "name": "In_class_exercise_02.ipynb",
      "provenance": [],
      "collapsed_sections": [],
      "toc_visible": true,
      "include_colab_link": true
    },
    "kernelspec": {
      "display_name": "Python 3",
      "language": "python",
      "name": "python3"
    },
    "language_info": {
      "codemirror_mode": {
        "name": "ipython",
        "version": 3
      },
      "file_extension": ".py",
      "mimetype": "text/x-python",
      "name": "python",
      "nbconvert_exporter": "python",
      "pygments_lexer": "ipython3",
      "version": "3.8.5"
    }
  },
  "cells": [
    {
      "cell_type": "markdown",
      "metadata": {
        "id": "view-in-github",
        "colab_type": "text"
      },
      "source": [
        "<a href=\"https://colab.research.google.com/github/prudhvijiddigam/Computational-Methods/blob/main/In_class_exercise_02.ipynb\" target=\"_parent\"><img src=\"https://colab.research.google.com/assets/colab-badge.svg\" alt=\"Open In Colab\"/></a>"
      ]
    },
    {
      "cell_type": "markdown",
      "metadata": {
        "id": "oo5bsEh2eeWi"
      },
      "source": [
        "# **The second In-class-exercise (1/27/2021, 20 points in total)**\n"
      ]
    },
    {
      "cell_type": "markdown",
      "metadata": {
        "id": "2sPQ58dIeqgp"
      },
      "source": [
        "(1) Write a Python program to find the duplicate elements in a given array of integers. Return -1 If there are no such elements. (4 points)"
      ]
    },
    {
      "cell_type": "code",
      "metadata": {
        "id": "mnrvKMFTeoJR",
        "outputId": "09de4658-afdc-49ae-db9c-33935527a63a"
      },
      "source": [
        "from collections import Counter\n",
        "a =[1,2,4,4,4,5,5,3,2,1]\n",
        "b=[]\n",
        "x= Counter(a)\n",
        "#print (x)\n",
        "for i in x:\n",
        "   # print (i,x[i])\n",
        "    if x[i]>1:\n",
        "        #print (i)\n",
        "        b.append(i)\n",
        "\n",
        "if len(b)<1:\n",
        "    print (-1)\n",
        "else:\n",
        "    print (b)\n",
        "\n",
        "\n",
        "\n"
      ],
      "execution_count": null,
      "outputs": [
        {
          "output_type": "stream",
          "text": [
            "[1, 2, 4, 5]\n"
          ],
          "name": "stdout"
        }
      ]
    },
    {
      "cell_type": "markdown",
      "metadata": {
        "id": "YYrH6n6IhZoQ"
      },
      "source": [
        "(2) Write a Python program to select all the Sundays of a specified year. (4 points)\n",
        "\n"
      ]
    },
    {
      "cell_type": "code",
      "metadata": {
        "id": "OSfPLd23eLpX",
        "outputId": "c51e517b-0dc1-4308-f23b-8de487460346"
      },
      "source": [
        "from datetime import date, timedelta\n",
        "\n",
        "year = int(input(\"Year\"))\n",
        "d = date(int(year), 1, 1)\n",
        "day = d.weekday()\n",
        "firstSunday = 6 - day\n",
        "d += timedelta(days = firstSunday)\n",
        "while d.year == year:\n",
        "  print (d)\n",
        "  d += timedelta(days = 7)\n",
        "\n",
        "\n"
      ],
      "execution_count": null,
      "outputs": [
        {
          "output_type": "stream",
          "text": [
            "Year2021\n",
            "2021-01-03\n",
            "2021-01-10\n",
            "2021-01-17\n",
            "2021-01-24\n",
            "2021-01-31\n",
            "2021-02-07\n",
            "2021-02-14\n",
            "2021-02-21\n",
            "2021-02-28\n",
            "2021-03-07\n",
            "2021-03-14\n",
            "2021-03-21\n",
            "2021-03-28\n",
            "2021-04-04\n",
            "2021-04-11\n",
            "2021-04-18\n",
            "2021-04-25\n",
            "2021-05-02\n",
            "2021-05-09\n",
            "2021-05-16\n",
            "2021-05-23\n",
            "2021-05-30\n",
            "2021-06-06\n",
            "2021-06-13\n",
            "2021-06-20\n",
            "2021-06-27\n",
            "2021-07-04\n",
            "2021-07-11\n",
            "2021-07-18\n",
            "2021-07-25\n",
            "2021-08-01\n",
            "2021-08-08\n",
            "2021-08-15\n",
            "2021-08-22\n",
            "2021-08-29\n",
            "2021-09-05\n",
            "2021-09-12\n",
            "2021-09-19\n",
            "2021-09-26\n",
            "2021-10-03\n",
            "2021-10-10\n",
            "2021-10-17\n",
            "2021-10-24\n",
            "2021-10-31\n",
            "2021-11-07\n",
            "2021-11-14\n",
            "2021-11-21\n",
            "2021-11-28\n",
            "2021-12-05\n",
            "2021-12-12\n",
            "2021-12-19\n",
            "2021-12-26\n"
          ],
          "name": "stdout"
        }
      ]
    },
    {
      "cell_type": "markdown",
      "metadata": {
        "id": "UIpziZ6Sjie-"
      },
      "source": [
        "(3) Python files reading and writing. Download the “[exercise_02_data _collection.zip](https://github.com/unt-iialab/info5731_spring2021/blob/main/class_exercises/exercise_02_data_collection.zip)” to your local and un-zip it.\n",
        "\n",
        "*   Write a program to read all the txt files and save the sentences in all the files into one csv file with two columns, the first column is sentence id (txt file name+sentence line number), the second column is the sentence text content. (4 points)\n",
        "*   Remove all the punctuations from the sentences, save the processed sentences into a new column in the same csv file. (4 points)\n",
        "*   Ask the user to enter a word, return all the sentences that include this word, three kinds of information should be returned: sentence id, sentence text content, the count that user input word appear in the sentence. (4 points)\n",
        "\n"
      ]
    },
    {
      "cell_type": "code",
      "metadata": {
        "colab": {
          "base_uri": "https://localhost:8080/"
        },
        "id": "f3CUsrWOj1Xy",
        "outputId": "f7a809b7-dadb-45cf-b9b3-f9de3219df84"
      },
      "source": [
        "import os\n",
        "import csv\n",
        "import re \n",
        "import collections\n",
        "\n",
        "# Open CSV in write mode\n",
        "csvFile = open('sahana.csv', 'w', newline='')\n",
        "writer = csv.writer(csvFile)\n",
        "\n",
        "directory = \"./text_files/\"\n",
        "# All files in directory\n",
        "allFiles = os.listdir(directory)\n",
        "\n",
        "keys = collections.defaultdict(dict)\n",
        "for fileName in allFiles:\n",
        "    \n",
        "    # Open file in read mode\n",
        "    f = open(directory + fileName, \"r\")\n",
        "\n",
        "    # For each line in file\n",
        "    for n, text in enumerate(f):\n",
        "\n",
        "        # Get sentence ID\n",
        "        id = fileName + str(n)\n",
        "\n",
        "        # Remove punctuations\n",
        "        processed = re.sub(r'[^\\w\\s]', '', text)\n",
        "\n",
        "        # Write text into CSV\n",
        "        writer.writerow([id, text, processed])\n",
        "\n",
        "        # Save info for searching\n",
        "        countOfWords = collections.Counter(processed.split(\" \"))\n",
        "        for word in countOfWords:\n",
        "            keys[word][id] = text, countOfWords[word]\n",
        "\n",
        "\n",
        "searchWord = input(\"Enter a word:\")\n",
        "if searchWord in keys:\n",
        "    for id in keys[searchWord]:\n",
        "        print (id, \",\", keys[searchWord][id][0], \",\", keys[searchWord][id][1])\n",
        "else:\n",
        "    print (\"Not found\")"
      ],
      "execution_count": 3,
      "outputs": [
        {
          "output_type": "stream",
          "text": [
            "Enter a word:have\n",
            "ARTHROTEC.100.txt5 , been off for 1 week still have bleeding.\n",
            " , 1\n",
            "ARTHROTEC.1.txt0 , I feel a bit drowsy & have a little blurred vision, so far no gastric problems.\n",
            " , 1\n",
            "ARTHROTEC.1.txt2 , Due to my arthritis getting progressively worse, to the point where I am in tears with the agony, gp's started me on 75 twice a day and I have to take it.\n",
            " , 1\n",
            "ARTHROTEC.1.txt4 , So far its been very good, pains almost gone, but I feel a bit weird, didn't have that when on 50. , 1\n",
            "ARTHROTEC.11.txt0 , I have no side effects that I am aware of.\n",
            " , 1\n",
            "ARTHROTEC.11.txt1 , I have tried various pain meds for the shoulder and nothing worked.\n",
            " , 1\n",
            "ARTHROTEC.21.txt0 , Didn't have much pain relief, and within a few days of starting the meds I began having cramps and heavy vaginal bleeding.\n",
            " , 1\n",
            "ARTHROTEC.21.txt1 , My period ended last week and this med made me have another one!.\n",
            " , 1\n",
            "ARTHROTEC.38.txt5 , Would rather have the elbow pain!.\n",
            " , 1\n",
            "ARTHROTEC.24.txt0 , I have taken 6 pills in the past (75mg each), but the side effect I had from my last pill was awful.\n",
            " , 1\n",
            "ARTHROTEC.24.txt4 , If I knew I would have went to bed with a sore knee instead - it hurt less than the cramps.\n",
            " , 1\n",
            "ARTHROTEC.10.txt1 , Brilliant, I have a new lease of life, i walk up & down steps properly, no longer sideways like a toddler, hip pain as gone other than if i jar it.\n",
            " , 1\n",
            "ARTHROTEC.4.txt2 , I have horrific cramps to begin with, so I can't say whether arthrotec increased that.\n",
            " , 1\n",
            "ARTHROTEC.4.txt3 , I have endometriosis, so I'm not sure if that is something that doesn't agree with arthrotec.\n",
            " , 1\n",
            "ARTHROTEC.64.txt0 , i have experienced extreme stomach pain when taken on an empty stomach, and moderate stomach pain when taken with food.\n",
            " , 1\n",
            "ARTHROTEC.48.txt4 , i am in need of a knee replacement, but in meantime feel like I have my life back.\n",
            " , 1\n",
            "ARTHROTEC.50.txt5 , Sorry ladies i don not have bleeding or stomach pains.\n",
            " , 1\n",
            "ARTHROTEC.50.txt6 , Truly wish you could have same results as i have.\n",
            " , 1\n",
            "ARTHROTEC.22.txt1 , I would rather have had a migraine than the pain I suffered after taking one of these pills.\n",
            " , 1\n",
            "ARTHROTEC.9.txt0 , vomitting - I have to fight to not throw up I am supposed to take this twice a day - but it makes me soooooo sick that I take literally as I a going to bed, so that I am asleep before the sickness kicks in.\n",
            " , 1\n",
            "ARTHROTEC.9.txt1 , I have tried and tried to take the day dose - but I would rather live without the sickness - its just too awful.\n",
            " , 1\n",
            "ARTHROTEC.17.txt2 , i was put on this medication because i was taking such high doses of Advil to quell the inflammation in my neck and back muscles that it caused me to have a GI bleed.\n",
            " , 1\n",
            "ARTHROTEC.17.txt4 , i already have anemia due to the gastric bleed.\n",
            " , 1\n",
            "ARTHROTEC.68.txt0 , For the first 8 days of ever taking it, the only side effect was a similar feeling you get when you have an empty stomach and light nausea that lasted for no more that 30 minutes\n",
            " , 1\n",
            "ARTHROTEC.68.txt3 , Now I have been off for two days and I still have the stomach pain.\n",
            " , 2\n",
            "ARTHROTEC.68.txt5 , Now I have to see my doctor again to see if I should keep taking it.\n",
            " , 1\n",
            "ARTHROTEC.16.txt7 , I was relieved to read that this could be a side effect, as it means I probably don't have something serious, but I will have to be in some serious pain to risk bleeding from the vagina again.\n",
            " , 2\n",
            "ARTHROTEC.53.txt0 , From day one of taking this pill I have experienced a significant reduction of pain in both areas and no stiffness in my hands, where before had very little mobility in my right hand, I have however experienced extreme pain/heavy bleeding and dizziness during my period which is not normal for me.\n",
            " , 2\n",
            "ARTHROTEC.35.txt5 , Who wants to have their period all month long and be non-stop nauseous?!\n",
            " , 1\n",
            "ARTHROTEC.18.txt8 , Have recommended to two others who have had similar exceptional results for chronic arthritic type issues.\n",
            " , 1\n",
            "ARTHROTEC.55.txt0 , I have nothing yet just took it my first time, but I am also on occupycet 5/325Nguyen\n",
            " , 1\n",
            "ARTHROTEC.55.txt1 , I have bad back and knew pain\n",
            " , 1\n",
            "ARTHROTEC.41.txt2 , I've taken co-codamol for my fibromyalgia for many years which I have very few side effects with.\n",
            " , 1\n",
            "ARTHROTEC.41.txt5 , Every time I stand up I have to hold onto something for fear of falling over, I feel sick and light headed and I get those waves of nausea where you suddenly feel all clammy.\n",
            " , 1\n",
            "ARTHROTEC.74.txt1 , I take ARTHROTEC 50 every day, sometimes BID and have found nothing that works better.\n",
            " , 1\n",
            "ARTHROTEC.59.txt0 , I have vaginal bleeding, my cycle was back (I'm menopausal ), breast pain\n",
            " , 1\n",
            "ARTHROTEC.59.txt1 , Other symptoms I have: erithema, my skin is so dry I have little cuts on my hands, I 'm sweating a lot (usually I don't), pruritus ani etc\n",
            " , 2\n",
            "ARTHROTEC.57.txt0 , I have spotting and it had started 2 days after I was taking them\n",
            " , 1\n",
            "ARTHROTEC.57.txt1 , I had stopped taking them for 3 weeks now and still have spotting problems, I talked to doctors and they just shrugged it off.\n",
            " , 1\n",
            "ARTHROTEC.57.txt2 , And then told me go home, I still want to have more children I am at my wits end!!!.\n",
            " , 1\n",
            "ARTHROTEC.40.txt0 , I have been concerned about long term effects of Arthrotec, but with chronic back for 9 years I cannot live without it right now.\n",
            " , 1\n",
            "ARTHROTEC.40.txt2 , I never had any stomach trouble, or cramps, or anything people have mentioned here.\n",
            " , 1\n",
            "ARTHROTEC.40.txt5 , I do not have any kind of stomach trouble after 8 years.\n",
            " , 1\n",
            "ARTHROTEC.40.txt7 , Of course, but I have to be able to get out of the bed in the morning.\n",
            " , 1\n",
            "ARTHROTEC.40.txt8 , I have blood work done every year to see if there's any kidney, liver damage or anything, and so far there hasn't been any.\n",
            " , 1\n",
            "ARTHROTEC.32.txt0 , the first pill i took it caused severe abdominal pain but after taking the first one it never did that again , but recently i've been feeling like my stomach is full and empty at the same time hard to explain but thats what it felt like , and also have been getting bruises allover my body due to this drug , other than that my back is back to normal now and i am back at work.\n",
            " , 1\n",
            "ARTHROTEC.47.txt1 , I just went for test and haven't gotten results yet, but Dr feels I have more than 1 form of arthritis, I also have a very sensitive stomach, this is cheaper and more approved by health insurance, so that is why this prescribed.\n",
            " , 2\n",
            "ARTHROTEC.47.txt2 , Seems to me we always have to choose lesser of the 2 evils, I can't deal with Charlie Horses, so I am stopping this med.\n",
            " , 1\n",
            "ARTHROTEC.70.txt5 , AS I have had a history of running to the toilet I dont do that any longer.\n",
            " , 1\n",
            "ARTHROTEC.70.txt9 , It is helping more than I could have wished for.\n",
            " , 1\n",
            "ARTHROTEC.60.txt7 , I have never had a reaction to any medication before.\n",
            " , 1\n",
            "ARTHROTEC.29.txt2 , I had severe endometriosis and adenomyosis all my life, plus the impairment in blood clotting due to EDS, so my doctor probably should not have prescribed this drug.\n",
            " , 1\n",
            "ARTHROTEC.63.txt0 , I have vaginal bleeding, my cycle was back (I'm menopausal ), breast pain, Other symptoms I have: erithema, my skin is so dry I have little cuts on my hands, I 'm sweating a lot (usually I don't), pruritus ani etc\n",
            " , 3\n",
            "ARTHROTEC.54.txt0 , I have not experienced any of the side effects.\n",
            " , 1\n",
            "ARTHROTEC.27.txt1 , I am on the birth control pill and should not have my period for another 3 weeks.\n",
            " , 1\n",
            "ARTHROTEC.62.txt2 , this product changed the way i have lived for 5 years.\n",
            " , 1\n",
            "ARTHROTEC.88.txt0 , My urine is bloody, I have got canker sores the size of golf balls, my face is falling off.\n",
            " , 1\n",
            "ARTHROTEC.30.txt0 , I have been on Arthrotec for a year and a half and have been very pleased that it does help deal with my back pain.\n",
            " , 2\n",
            "ARTHROTEC.30.txt2 , over the last six months, I have started having vaginal bleeding almost every day of the month.\n",
            " , 1\n",
            "ARTHROTEC.30.txt7 , So now I am scheduled to have an endometrial biopsy on Wed.\n",
            " , 1\n",
            "ARTHROTEC.30.txt12 , On top of that, I am now having to have a procedure that a 31 year old should not have to endure.\n",
            " , 2\n",
            "ARTHROTEC.30.txt14 , I have not taken Arthrotec in almost a week, yet I am still bleeding.\n",
            " , 1\n",
            "ARTHROTEC.30.txt16 , I feel that I have become dependent on this medicine to function.\n",
            " , 1\n",
            "ARTHROTEC.7.txt4 , I have had 2 trips back to dr, since this happened and a third visit due to the tachycardia is schedule in 3 more days.\n",
            " , 1\n",
            "ARTHROTEC.73.txt0 , I've been post-menopausal for five years and have now had a six day period with all the accompanying tender breasts, bloating, cramping etc\n",
            " , 1\n",
            "ARTHROTEC.79.txt1 , I have some acid reflux thats developed over the last few years, which may not be related since it runs in the family.\n",
            " , 1\n",
            "ARTHROTEC.79.txt9 , Else how much would you have to take, thus increasing your risk for possible adverse reactions.\n",
            " , 1\n",
            "ARTHROTEC.82.txt2 , I would not recommend this drug to anyone, especially since I have never had such an adverse reaction to any other medication.\n",
            " , 1\n"
          ],
          "name": "stdout"
        }
      ]
    },
    {
      "cell_type": "markdown",
      "metadata": {
        "id": "-12cqmJEpZOh"
      },
      "source": [
        "(4) Install packages nltk, numpy, scipy, pandas, and sklearn on Google Colab. Write a program to test whether they are installed successfully. (3 points for extra)"
      ]
    },
    {
      "cell_type": "code",
      "metadata": {
        "id": "f1pn1Zl2qK77"
      },
      "source": [
        "\n",
        "\n",
        "\n",
        "\n",
        "\n"
      ],
      "execution_count": null,
      "outputs": []
    }
  ]
}