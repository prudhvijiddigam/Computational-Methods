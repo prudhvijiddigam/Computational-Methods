{
  "nbformat": 4,
  "nbformat_minor": 0,
  "metadata": {
    "colab": {
      "name": "INFO5731_Prudhvi_Assignment_One-1.ipynb",
      "provenance": [],
      "collapsed_sections": [
        "Ryk8D1Q4Wsrp"
      ],
      "include_colab_link": true
    },
    "kernelspec": {
      "display_name": "Python 3",
      "language": "python",
      "name": "python3"
    },
    "language_info": {
      "codemirror_mode": {
        "name": "ipython",
        "version": 3
      },
      "file_extension": ".py",
      "mimetype": "text/x-python",
      "name": "python",
      "nbconvert_exporter": "python",
      "pygments_lexer": "ipython3",
      "version": "3.7.4"
    }
  },
  "cells": [
    {
      "cell_type": "markdown",
      "metadata": {
        "id": "view-in-github",
        "colab_type": "text"
      },
      "source": [
        "<a href=\"https://colab.research.google.com/github/prudhvijiddigam/Computational-Methods/blob/main/INFO5731_Prudhvi_Assignment_One_1.ipynb\" target=\"_parent\"><img src=\"https://colab.research.google.com/assets/colab-badge.svg\" alt=\"Open In Colab\"/></a>"
      ]
    },
    {
      "cell_type": "markdown",
      "metadata": {
        "id": "Ryk8D1Q4Wsrp"
      },
      "source": [
        "# **INFO5731 Assignment One**"
      ]
    },
    {
      "cell_type": "markdown",
      "metadata": {
        "id": "90_NR8c5XGWc"
      },
      "source": [
        "# Question 1\n",
        "\n",
        "(20 points). Write a Python program to generate 12 random numbers between 1 and 100. Sort the list of numbers in ascending order and print it out. Sort the list of numbers in descending order and print it out. Calculate the average for the group and print it out."
      ]
    },
    {
      "cell_type": "code",
      "metadata": {
        "colab": {
          "base_uri": "https://localhost:8080/"
        },
        "id": "5QX6bJjGWXY9",
        "outputId": "ec25c479-2b14-4f9a-f44d-e3d0eaebebc4"
      },
      "source": [
        "import random\n",
        "\n",
        "# Generate 12 unique random numbers within a range 0 to 100\n",
        "randomset = random.sample(range(0, 100), 12)\n",
        "print(randomset)\n",
        "\n",
        "#Printing 12 unique random numbers in ascending order\n",
        "randomset.sort()\n",
        "print(randomset)\n",
        "\n",
        "#Printing 12 unique random numbers in descending order\n",
        "randomset.sort(reverse=True)\n",
        "print(randomset)\n",
        "\n",
        "#Printing the average of the list\n",
        "randomavg = sum(randomset)/12\n",
        "print(randomavg) "
      ],
      "execution_count": 49,
      "outputs": [
        {
          "output_type": "stream",
          "text": [
            "[84, 86, 81, 47, 9, 22, 2, 77, 93, 19, 75, 44]\n",
            "[2, 9, 19, 22, 44, 47, 75, 77, 81, 84, 86, 93]\n",
            "[93, 86, 84, 81, 77, 75, 47, 44, 22, 19, 9, 2]\n",
            "53.25\n"
          ],
          "name": "stdout"
        }
      ]
    },
    {
      "cell_type": "markdown",
      "metadata": {
        "id": "1F_PZdH9Sh49"
      },
      "source": [
        "# Question 2\n",
        "(25 points). Write a program that will do the following string formatting tasks:\n",
        "\n",
        "(1) Ask the user to enter two sentences.\n",
        "\n",
        "(2) Make each sentence into a list. Each element in the list should correspond to a word in the sentence. For example, if the sentence is \"Alas! Am I alive? This is my first python program\", the program should print out ['Alas, '!', 'Am', 'I', 'alive, '?', 'This', 'is', 'my', 'first', 'python', 'program'].\n",
        "\n",
        "(3) Compare the two sentences. Print out a list of words that occur in both sentences.\n",
        "\n",
        "(4) Remove any punctuation from the sentence and print it back out. It should remove at least the following characters, but it can remove more: period(“.”), comma (“,”), semicolon (“;”), and colon (“:”)\n",
        "\n",
        "(5) Count the number of vowels in the sentences. Print out each vowel and the number of times it appears in the sentences, such as: a:2, e:1, i:0, etc"
      ]
    },
    {
      "cell_type": "code",
      "metadata": {
        "colab": {
          "base_uri": "https://localhost:8080/"
        },
        "id": "Y0oOSlsOS0cq",
        "outputId": "6cde5ef2-2c02-4621-a7f9-dae4a0f446a1"
      },
      "source": [
        "import string\n",
        "import re\n",
        "\n",
        "sentence1 = input(\"sentence1:\")\n",
        "print(sentence1)\n",
        "sentence2 = input(\"sentence2:\")\n",
        "print(sentence2)\n",
        "\n",
        "#Using regex to remove puncuations\n",
        "res = re.sub(r'[^\\w\\s]', '',sentence1 )\n",
        "print(res)\n",
        "res1 = re.sub(r'[^\\w\\s]', '', sentence2)\n",
        "print(res1)\n",
        "\n",
        "\n",
        "mylist1 = list(sentence1.split())\n",
        "print(mylist1)\n",
        "mylist2 = list(sentence2.split())\n",
        "print(mylist2)\n",
        "\n",
        "\n",
        "#Count the number of vowels in the sentences and Print out each vowel and the number of times it appears in the sentences\n",
        "lowercase = sentence1.lower()\n",
        "lowercase1 = sentence2.lower()\n",
        "vowel_counts = {}\n",
        "vowel_counts1 = {}\n",
        "for vowel in \"aeiou\":\n",
        "    count = lowercase.count(vowel)\n",
        "    vowel_counts[vowel] = count\n",
        "print(vowel_counts)\n",
        "\n",
        "for i in \"aeiou\":\n",
        "    count1 = lowercase1.count(i)\n",
        "    vowel_counts1[i] = count1\n",
        "print(vowel_counts1)\n",
        "\n",
        "\n",
        "\n",
        "\n",
        "\n",
        "\n",
        "\n"
      ],
      "execution_count": 80,
      "outputs": [
        {
          "output_type": "stream",
          "text": [
            "sentence1:HUrray! \"I an done\".\n",
            "HUrray! \"I an done\".\n",
            "sentence2:Alas! dont comek,\n",
            "Alas! dont comek,\n",
            "HUrray I an done\n",
            "Alas dont comek\n",
            "['HUrray!', '\"I', 'an', 'done\".']\n",
            "['Alas!', 'dont', 'comek,']\n",
            "{'a': 2, 'e': 1, 'i': 1, 'o': 1, 'u': 1}\n",
            "{'a': 2, 'e': 1, 'i': 0, 'o': 2, 'u': 0}\n"
          ],
          "name": "stdout"
        }
      ]
    },
    {
      "cell_type": "markdown",
      "metadata": {
        "id": "CmFoI4jDS9nx"
      },
      "source": [
        "p# Question 3 \n",
        "\n",
        "( yiuasu GG15 points). The formula that describes the volume V of a sphere with radius r is the following:\n",
        "\n",
        "$ V=\\frac{4}{3}\\ast\\ \\pi\\ast\\ r^3 $\n",
        "\n",
        "Write a program to calculate the value of V when r is in the range of 1–10. Output the result in the following format:\n",
        "\n",
        "\tr\tV\n",
        "\t1\t…\n",
        "\t2\t…\n",
        "\t3\t…\n"
      ]
    },
    {
      "cell_type": "code",
      "metadata": {
        "colab": {
          "base_uri": "https://localhost:8080/"
        },
        "id": "pEyqeioAT95b",
        "outputId": "fd1dd9b2-63f9-4690-99f6-3c3bc8a1fd23"
      },
      "source": [
        "import matplotlib.pyplot as plt\n",
        "import math\n",
        "\n",
        "volume = [(4/3)* math.pi* (r**3) for r in range(1,11)] \n",
        "print(\"r  v\")\n",
        "h=len(volume)\n",
        "for i in range(h):\n",
        "  print(i+1,volume[i])\n"
      ],
      "execution_count": 110,
      "outputs": [
        {
          "output_type": "stream",
          "text": [
            "r  v\n",
            "1 4.1887902047863905\n",
            "2 33.510321638291124\n",
            "3 113.09733552923254\n",
            "4 268.082573106329\n",
            "5 523.5987755982989\n",
            "6 904.7786842338603\n",
            "7 1436.7550402417319\n",
            "8 2144.660584850632\n",
            "9 3053.6280592892786\n",
            "10 4188.790204786391\n"
          ],
          "name": "stdout"
        }
      ]
    },
    {
      "cell_type": "code",
      "metadata": {
        "id": "pMCr3l8tnu0j"
      },
      "source": [
        ""
      ],
      "execution_count": 31,
      "outputs": []
    },
    {
      "cell_type": "markdown",
      "metadata": {
        "id": "z3tBE7E-Xn5X"
      },
      "source": [
        "# Question 4\n",
        "\n",
        "(40 points). In the field of Data Science, data is often formatted as a comma-delimited (CSV) file, where each line in a file corresponds to a field's value. Refer to Chapter 9 (p. 106) for more information on comma-delimited files. To answer this question, you will need to download the file [Assignment1_denton_housing.csv](https://github.com/unt-iialab/info5731_spring2021/blob/main/assignment/Assignment1_denton_housing.csv) included with this assignment. The file [Assignment1_denton_housing.csv](https://github.com/unt-iialab/info5731_spring2021/blob/main/assignment/Assignment1_denton_housing.csv) contains statistics about housing in the city of Denton from 2008 to 2014. Write a program to implement the following questions.\n",
        "\n",
        "(1) (10 pts) Calculate the difference in the number of Occupied Housing Units from year to year and print it. The difference must be calculated for the consecutive years such as 2008-2009, 2009-2010 etc. Finally, print the values in the ascending order.\n",
        "\n",
        "(2) (10 pts) For all the years, calculate the percentage of housing units which are vacant an occupied. Print the results in the following format:\n",
        "\n",
        "Year Vacant Housing Units Occupied Housing Units\n",
        "\n",
        "    2008  30%   70%                          \n",
        "\t2009 ----- -----\n",
        "\t2010 ----- -----\n",
        "    2011 ----- -----\n",
        "\t2012 ----- -----\n",
        "    2013 ----- -----\n",
        "\t2014 ----- -----\n",
        "  \n",
        "  \n",
        "\n",
        "(3) (10 pts) Calculate and print the valued and years in which the highest number of housing units were vacant and occupied. Print the results in the following format:  \n",
        "\n",
        "                              Year\tValue\n",
        "\tVacant Housing Units\t  -----   -----\n",
        "\tOccupied Housing Units\t-----   -----\n",
        "\n",
        "(4) (10 pts) Calculate the harmonic mean of the total housing units and print it out. You can find the information about harmonic mean here: https://ncalculators.com/statistics/harmonic-mean-calculator.htm"
      ]
    },
    {
      "cell_type": "code",
      "metadata": {
        "colab": {
          "base_uri": "https://localhost:8080/"
        },
        "id": "lqGYuHBhcsRH",
        "outputId": "25ab9fc9-33f4-4778-c025-a595d959b58d"
      },
      "source": [
        "import pandas as pd\n",
        "\n",
        "df = pd.read_csv('/content/housing.csv')\n",
        "\n",
        "housingData = {}\n",
        "\n",
        "for index, row in df.iterrows():\n",
        "\tif int(row['year']) not in housingData:\n",
        "\t\thousingData[int(row['year'])] = {}\n",
        "\thousingData[row['year']][row['title_field']] = int(row['value'])\n",
        "\n",
        "print ('Difference in Occupied Housing Units')\n",
        "result = {}\n",
        "for year in housingData:\n",
        "\tif year - 1 in housingData:\n",
        "\t\tcurrentYear = housingData[year]['Occupied Housing Units']\n",
        "\t\tpreviousYear = housingData[year - 1]['Occupied Housing Units']\n",
        "\t\tresult[year] = previousYear - currentYear\n",
        "\n",
        "result = {k: v for k, v in sorted(result.items(), key=lambda item: item[1])}\n",
        "for year in result:\n",
        "\tprint (year - 1, \"-\", year, result[year])\n",
        "\n",
        "print ('\\n\\n\\nPercentage of vacant and occupied housing units')\t\n",
        "for year in housingData:\n",
        "\ttotal = housingData[year]['Total Housing Units']\n",
        "\toccupied = housingData[year]['Occupied Housing Units']\n",
        "\tvacant = housingData[year]['Vacant Housing Units']\n",
        "\toccupiedPercent = (occupied / total) * 100\n",
        "\tvacantPercent = (vacant / total) * 100\n",
        "\tprint (year, str(round(occupiedPercent, 2)) + \"%\", str(round(vacantPercent, 2)) + \"%\")\n",
        "\n",
        "\n",
        "print ('\\n\\n\\n')\n",
        "maxVacant = 0\n",
        "yearVacant = None\n",
        "maxOccupied = 0\n",
        "yearOccupied = None\n",
        "for year in housingData:\n",
        "\tif housingData[year]['Occupied Housing Units'] > maxOccupied:\n",
        "\t\tmaxOccupied = housingData[year]['Occupied Housing Units']\n",
        "\t\tyearOccupied = year\n",
        "\tif housingData[year]['Vacant Housing Units'] > maxVacant:\n",
        "\t\tmaxVacant = housingData[year]['Vacant Housing Units']\n",
        "\t\tyearVacant = year\n",
        "\n",
        "print ('Vacant Housing Units', yearVacant, maxVacant)\n",
        "print ('Occupied Housing Units', yearOccupied, maxOccupied)\n",
        "\n",
        "\n",
        "print ('\\n\\n\\n')\n",
        "n = 0\n",
        "total = 0 \n",
        "for year in housingData:\n",
        "\ttotal += (1 / housingData[year]['Total Housing Units'])\n",
        "\tn += 1\n",
        "\n",
        "print (\"Harmonic mean =\", n / total)"
      ],
      "execution_count": 120,
      "outputs": [
        {
          "output_type": "stream",
          "text": [
            "Difference in Occupied Housing Units\n",
            "2009 - 2010 -5091\n",
            "2013 - 2014 -2622\n",
            "2012 - 2013 -1565\n",
            "2011 - 2012 -1404\n",
            "2010 - 2011 303\n",
            "2008 - 2009 795\n",
            "\n",
            "\n",
            "\n",
            "Percentage of vacant and occupied housing units\n",
            "2014 94.27% 5.73%\n",
            "2013 91.2% 8.8%\n",
            "2012 93.32% 6.68%\n",
            "2011 90.62% 9.38%\n",
            "2010 91.86% 8.14%\n",
            "2009 90.93% 9.07%\n",
            "2008 89.12% 10.88%\n",
            "\n",
            "\n",
            "\n",
            "\n",
            "Vacant Housing Units 2008 4483\n",
            "Occupied Housing Units 2014 46295\n",
            "\n",
            "\n",
            "\n",
            "\n",
            "Harmonic mean = 44398.28543969185\n"
          ],
          "name": "stdout"
        }
      ]
    },
    {
      "cell_type": "code",
      "metadata": {
        "id": "eTWuCCwd77QL"
      },
      "source": [
        ""
      ],
      "execution_count": null,
      "outputs": []
    }
  ]
}