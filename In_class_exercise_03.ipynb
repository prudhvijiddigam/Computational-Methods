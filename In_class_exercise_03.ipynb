{
  "nbformat": 4,
  "nbformat_minor": 0,
  "metadata": {
    "kernelspec": {
      "display_name": "Python 3",
      "language": "python",
      "name": "python3"
    },
    "language_info": {
      "codemirror_mode": {
        "name": "ipython",
        "version": 3
      },
      "file_extension": ".py",
      "mimetype": "text/x-python",
      "name": "python",
      "nbconvert_exporter": "python",
      "pygments_lexer": "ipython3",
      "version": "3.7.4"
    },
    "colab": {
      "name": "In-class-exercise-03.ipynb",
      "provenance": [],
      "include_colab_link": true
    }
  },
  "cells": [
    {
      "cell_type": "markdown",
      "metadata": {
        "id": "view-in-github",
        "colab_type": "text"
      },
      "source": [
        "<a href=\"https://colab.research.google.com/github/prudhvijiddigam/Computational-Methods/blob/main/In_class_exercise_03.ipynb\" target=\"_parent\"><img src=\"https://colab.research.google.com/assets/colab-badge.svg\" alt=\"Open In Colab\"/></a>"
      ]
    },
    {
      "cell_type": "markdown",
      "metadata": {
        "id": "etUkNeQDQoMm"
      },
      "source": [
        "## The third In-class-exercise (9/16/2020, 20 points in total)"
      ]
    },
    {
      "cell_type": "markdown",
      "metadata": {
        "id": "MQA_oEU0QoMp"
      },
      "source": [
        "The purpose of this exercise is to under users' information needs, then collect the data for analysis."
      ]
    },
    {
      "cell_type": "markdown",
      "metadata": {
        "id": "cE9tu5bqQoMq"
      },
      "source": [
        "Question 1 (8 points): Describe an interesting research question (or practical question) you have in mind, what kind of data should be collected to answer the question(s)? How many data needed for the analysis? The detail steps for collecting and save the data. "
      ]
    },
    {
      "cell_type": "code",
      "metadata": {
        "id": "0E8iB4oUQoMq"
      },
      "source": [
        "# Your answer here (no code for this question, write down your answer as detail as possible for the above questions):\n",
        "\n",
        "'''\n",
        "Please write you answer here:\n",
        "\n",
        "Movies are part of our daily life.There are thousands of movies on the ott platforms and we find it hard to find the right movie \n",
        "which is close to our choice. My research question is to build a movie recommender system which suggests the movie based on our \n",
        "watchlist and also recommends the movies rating higher and show the brief summary of the movie for better understanding.\n",
        "\n",
        "For this i have used the dataset called MovieLens from kaggle which is the largest platform for datascience tools and resources.\n",
        "The Dataset contains metadata of 45000 movies released on or Before july 2017. The data fields include crew, cast, budget, revenues,\n",
        "posters, languages, release dates etc.The folder has 26 bmillion rating from the 270,000 users for all the 45000 movies.\n",
        "\n",
        "Steps for collecting the data\n",
        "\n",
        "1. The data folder is imported from the kaggle and explored. There are multiples datafiles in the folder. For this we use \n",
        "Movies_dataset for building this recommender system.\n",
        "2.Import vectorizer from sci-kit learn module. Tf-idf Vectorizer Object removes all the words like ‘the’, ‘a’ etc.\n",
        "3.we construct Tf-idf matrix by fitting and transforming the data\n",
        "4. Import linear kernel function from sci-kit module to create similar matrix.\n",
        "5. Construct reverse map of movie and indices and cleaning the data the data for duplicates.\n",
        "\n",
        "\n",
        "\n",
        "\n",
        "'''"
      ],
      "execution_count": null,
      "outputs": []
    },
    {
      "cell_type": "markdown",
      "metadata": {
        "id": "DYuyBXAqQoMr"
      },
      "source": [
        "Question 2 (12 points): Write python code to collect 500 items of the data you plan to collect above."
      ]
    },
    {
      "cell_type": "code",
      "metadata": {
        "colab": {
          "base_uri": "https://localhost:8080/"
        },
        "id": "XIxvm8GJQoMs",
        "outputId": "616678cf-28c3-4f37-e44e-bdb8fbc67179"
      },
      "source": [
        "# You code here (Please add comments in the code):\n",
        "\n",
        "import pandas as pd\n",
        "#load the data\n",
        "data1 = pd.read_csv('/movies_metadata.csv', low_memory=False)\n",
        "data1.head()\n",
        "\n",
        "data1['overview'].head(500)\n"
      ],
      "execution_count": 5,
      "outputs": [
        {
          "output_type": "execute_result",
          "data": {
            "text/plain": [
              "0      Led by Woody, Andy's toys live happily in his ...\n",
              "1      When siblings Judy and Peter discover an encha...\n",
              "2      A family wedding reignites the ancient feud be...\n",
              "3      Cheated on, mistreated and stepped on, the wom...\n",
              "4      Just when George Banks has recovered from his ...\n",
              "                             ...                        \n",
              "495    Loving but irresponsible dad Daniel Hillard, e...\n",
              "496    Johnny flees Manchester for London, to avoid a...\n",
              "497    During a commemoration for Japanese soldiers f...\n",
              "498    Peter and Katherine Witner are Southern Califo...\n",
              "499    In the year 2022, a ruthless prison warden has...\n",
              "Name: overview, Length: 500, dtype: object"
            ]
          },
          "metadata": {
            "tags": []
          },
          "execution_count": 5
        }
      ]
    },
    {
      "cell_type": "code",
      "metadata": {
        "id": "n45VRkD8Q2_B"
      },
      "source": [
        ""
      ],
      "execution_count": 4,
      "outputs": []
    },
    {
      "cell_type": "code",
      "metadata": {
        "id": "EHvFV2nvSuk3"
      },
      "source": [
        ""
      ],
      "execution_count": 4,
      "outputs": []
    },
    {
      "cell_type": "code",
      "metadata": {
        "id": "FgaBl208TAwH"
      },
      "source": [
        ""
      ],
      "execution_count": 4,
      "outputs": []
    },
    {
      "cell_type": "code",
      "metadata": {
        "id": "viiQUe7vTUzo"
      },
      "source": [
        ""
      ],
      "execution_count": null,
      "outputs": []
    }
  ]
}