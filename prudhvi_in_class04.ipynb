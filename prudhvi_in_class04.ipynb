{
  "nbformat": 4,
  "nbformat_minor": 0,
  "metadata": {
    "colab": {
      "name": "In_class_exercise_04.ipynb",
      "provenance": [],
      "collapsed_sections": [],
      "include_colab_link": true
    },
    "kernelspec": {
      "display_name": "Python 3",
      "language": "python",
      "name": "python3"
    },
    "language_info": {
      "codemirror_mode": {
        "name": "ipython",
        "version": 3
      },
      "file_extension": ".py",
      "mimetype": "text/x-python",
      "name": "python",
      "nbconvert_exporter": "python",
      "pygments_lexer": "ipython3",
      "version": "3.8.5"
    }
  },
  "cells": [
    {
      "cell_type": "markdown",
      "metadata": {
        "id": "view-in-github",
        "colab_type": "text"
      },
      "source": [
        "<a href=\"https://colab.research.google.com/github/prudhvijiddigam/Computational-Methods/blob/main/prudhvi_in_class04.ipynb\" target=\"_parent\"><img src=\"https://colab.research.google.com/assets/colab-badge.svg\" alt=\"Open In Colab\"/></a>"
      ]
    },
    {
      "cell_type": "markdown",
      "metadata": {
        "id": "s-vTOb03hG1f"
      },
      "source": [
        "\n",
        "\n",
        "# 1. Text Data Preprocessing\n",
        "\n",
        "Here is a [legal case](https://github.com/unt-iialab/info5731_spring2021/blob/main/class_exercises/01-05-1%20%20Adams%20v%20Tanner.txt) we collected from westlaw, please follow the steps we mentioned in lesson 5 to clean the data:\n",
        "\n",
        "\n",
        "\n",
        "## 1.1 Basic feature extraction using text data (4 points)\n",
        "\n",
        "*   Number of sentences\n",
        "*   Number of words\n",
        "*   Number of characters\n",
        "*   Average word length\n",
        "*   Number of stopwords\n",
        "*   Number of special characters\n",
        "*   Number of numerics\n",
        "*   Number of uppercase words\n",
        "\n",
        "## 1.2 Basic Text Pre-processing of text data (4 points)\n",
        "\n",
        "*   Lower casing\n",
        "*   Punctuation removal\n",
        "*   Stopwords removal\n",
        "*   Frequent words removal\n",
        "*   Rare words removal\n",
        "*   Spelling correction\n",
        "*   Tokenization\n",
        "*   Stemming\n",
        "*   Lemmatization\n",
        "\n",
        "## 1.3 Save all the **clean sentences** to a **csv file** (one column, each raw is a sentence) after finishing all the steps above. (4 points)\n",
        "\n",
        "\n",
        "## 1.4 Advance Text Processing (Extra credit: 4 points)\n",
        "\n",
        "*   Calculate the term frequency of all the terms.\n",
        "*   Print out top 10 1-gram, top 10 2-grams, and top 10 3-grams terms as features.\n"
      ]
    },
    {
      "cell_type": "markdown",
      "metadata": {
        "id": "EuX00KHNeSpw"
      },
      "source": [
        "# **The fourth in-class-exercise (20 points in total, 2/9/2021)**"
      ]
    },
    {
      "cell_type": "code",
      "metadata": {
        "id": "vR0L3_CreM_A"
      },
      "source": [
        "#code to read the text file\n",
        "\n",
        "with open('Adams vs Tanner assign.txt', 'r') as f:\n",
        "  content = f.read()\n",
        "  \n"
      ],
      "execution_count": 28,
      "outputs": []
    },
    {
      "cell_type": "code",
      "metadata": {
        "id": "IJhTL1ZpxWhX",
        "colab": {
          "base_uri": "https://localhost:8080/"
        },
        "outputId": "56e5081c-6b53-4a4f-8e02-ed09774e6fdd"
      },
      "source": [
        "# Finding No of sentences and words in the file\r\n",
        "\r\n",
        "print(\"total no of sentences:\", content.count('.'))\r\n",
        "print('Total no of words:', content.count(' '))"
      ],
      "execution_count": 32,
      "outputs": [
        {
          "output_type": "stream",
          "text": [
            "total no of sentences: 291\n",
            "Total no of words: 3573\n"
          ],
          "name": "stdout"
        }
      ]
    },
    {
      "cell_type": "code",
      "metadata": {
        "id": "gmbulTeAyASj",
        "colab": {
          "base_uri": "https://localhost:8080/"
        },
        "outputId": "f37b03e0-e383-462d-ede8-e5de8b410718"
      },
      "source": [
        "#No of characters\r\n",
        "\r\n",
        "sum=0\r\n",
        "for i in content:\r\n",
        " sum+=len(i)\r\n",
        "print(\"Total no of characters\",sum)\r\n",
        "\r\n"
      ],
      "execution_count": 42,
      "outputs": [
        {
          "output_type": "stream",
          "text": [
            "Total no of characters 20453\n"
          ],
          "name": "stdout"
        }
      ]
    },
    {
      "cell_type": "code",
      "metadata": {
        "colab": {
          "base_uri": "https://localhost:8080/"
        },
        "id": "H8PebWSguYvV",
        "outputId": "c81d2161-b48e-46c4-afdc-504a92e2077f"
      },
      "source": [
        "# Number of stopwords\r\n",
        "\r\n",
        "from nltk.corpus import stopwords\r\n",
        "import nltk\r\n",
        "nltk.download('stopwords')\r\n",
        "correct_words = [word for word in content if word not in stopwords.words('english')]\r\n",
        "print(\"Total no of stopwords\",len(content)-len(correct_words))"
      ],
      "execution_count": 62,
      "outputs": [
        {
          "output_type": "stream",
          "text": [
            "[nltk_data] Downloading package stopwords to /root/nltk_data...\n",
            "[nltk_data]   Package stopwords is already up-to-date!\n",
            "Total no of stopwords 7357\n"
          ],
          "name": "stdout"
        }
      ]
    },
    {
      "cell_type": "code",
      "metadata": {
        "colab": {
          "base_uri": "https://localhost:8080/"
        },
        "id": "cjpZNdJFw-cn",
        "outputId": "d3d00b98-71e5-47a1-d8b1-85544d737938"
      },
      "source": [
        "# Number of special characters\r\n",
        "\r\n",
        "special_char = \"#\",\"$\",\"&\",\"%\"\r\n",
        "till = 0\r\n",
        "for characters in special_char:\r\n",
        "    total = len([word for word in content.split(' ') if word.startswith(characters)])\r\n",
        "    till += total\r\n",
        "print(' Total No of special characters:', till)\r\n"
      ],
      "execution_count": 57,
      "outputs": [
        {
          "output_type": "stream",
          "text": [
            " Total No of special characters: 11\n"
          ],
          "name": "stdout"
        }
      ]
    },
    {
      "cell_type": "code",
      "metadata": {
        "colab": {
          "base_uri": "https://localhost:8080/"
        },
        "id": "fmTF9Mwww--9",
        "outputId": "22074211-973b-4980-c2e8-cb73f60934be"
      },
      "source": [
        "# Total no of numerics\r\n",
        "Total_numerics = len([i for i in list(content) if i.isnumeric()])\r\n",
        "print('numerics:', Total_numerics)\r\n",
        "\r\n"
      ],
      "execution_count": 58,
      "outputs": [
        {
          "output_type": "stream",
          "text": [
            "numerics: 356\n"
          ],
          "name": "stdout"
        }
      ]
    },
    {
      "cell_type": "code",
      "metadata": {
        "colab": {
          "base_uri": "https://localhost:8080/"
        },
        "id": "gP5eePusykac",
        "outputId": "32dd2843-2380-4acb-8185-9346c6a8c250"
      },
      "source": [
        "#No of Uppercase\r\n",
        "\r\n",
        "upper = len([char for char in content.split() if char.isupper()])\r\n",
        "print(' Uppercase words:', upper)"
      ],
      "execution_count": 59,
      "outputs": [
        {
          "output_type": "stream",
          "text": [
            " Uppercase words: 84\n"
          ],
          "name": "stdout"
        }
      ]
    },
    {
      "cell_type": "code",
      "metadata": {
        "colab": {
          "base_uri": "https://localhost:8080/"
        },
        "id": "olPWv_R7y921",
        "outputId": "9f62c08f-bb6d-4f46-eca0-11f14a5adec7"
      },
      "source": [
        "#1.2\r\n",
        "#Lowercasing\r\n",
        "\r\n",
        "content = \" \".join(char.lower() for char in content.split())\r\n",
        "print(content)\r\n"
      ],
      "execution_count": 61,
      "outputs": [
        {
          "output_type": "stream",
          "text": [
            "5 ala. 740 supreme court of alabama. adams v. tanner and horton. june term, 1843. synopsis writ of error to the circuit court of sumter. west headnotes (2) [1] chattel mortgages crops a growing crop has such an existence as to be the subject-matter of a mortgage or other contract which passes an interest to vest in possession, either immediately or at a future time. 4 cases that cite this headnote [2] creditorsremedies lien and priority under st.1821, prohibiting a levy on a crop until it has been gathered, no lien attaches in favor of a fi. fa. on a growing crop, nor does such lien attach until after the crop has been gathered. 5 cases that cite this headnote **1 this was a trial of the right of property under the statute. in november, 1840, an execution issued from the circuit court of sumter, at the suit of the plaintiff in error, requiring the sheriff of that county, to make of the goods, &c., of allen harrison and others, the sum of thirty-seven hundred and seventy-seven 80-100 dollars, besides costs. this execution was levied on thirty bales of cotton, as the property of allen harrison, which was claimed, and a bond given to try the right. an issue was made up to try the question of the liability of the cotton to the plaintiff�s execution, and submitted to a jury. on the trial, a bill of exceptions was sealed at the instance of the plaintiff. the plaintiff proved that he recovered his judgment in october, 1839; that an execution *741 was issued thereon on the 7th nov. thereafter, and that alias and pluries fieri facias�, issued regularly up to the time levy was made; that the cotton levied on was growed on the plantation of harrison, and cultivated by the hands in his service. it was proved by the claimants, by the production of a written contract, that harrison, on the twenty-second of may, 1840, in consideration that the claimants were involved, as indorsers for burton & harrison of sumter county, and were then exposed to an execution, amounting to upwards of fourteen thousand dollars, bargained and sold to the claimants all his growing crop of cotton &c., consisting of one hundred and twenty acres, &c. allen harrison promised and obliged himself to give up his crop to the use of the claimants at any time to save them from suffering as his indorsers; if the crop matured and was gathered he undertook to deliver the cotton in gainesville. the claimants came from tennessee, (where they resided) about the first of september, 1840, bringing with them three or four white laborers, and took possession of the crop and slaves, and with the latter, and white laborers, gathered the cotton, prepared it for market, and when levied on, it was in a ware-house in gainesville. the plaintiff then proved by harrison, that the claimants took possession of the crop, while he was absent, and disposed of it without his consent. it was admitted, that the contract was made in good faith. the court charged the jury, that the plaintiff had no lien by virtue of his judgment, and execution on the growing crop; that harrison had a right to convey it, without being in any manner restrained by them; that the writing adduced, was a sale of the crop, but if it was not, and the lien of the fieri facias would have attached upon it, when gathered, yet if the claimants obtained possession on the first of september, and controlled the gathering of the crop, then no lien attached, and it was not subject to the levy. attorneys and law firms r. h. smith, for the plaintiff, in error, made the following points.--1. the crop of harrison, must, in may, 1840, have been in an immature state, and it is insisted, was not the subject of a sale. 2. by the common law, a growing crop could be levied on and sold, [1 salk. rep. 361; 1 bos. & p. rep. 307; 6 east�s rep. 604, note 1; 2 johns. rep. 418, 422; 7 mass. rep. 34,] and our statue, [[[aik. dig. � 41, p. 167,] which forbids the levy of an *742 execution on a growing crop, is to receive a strict construction. it merely inhibits the levy, but the lien attaches, and a levy and sale may be made after the crop matures, and is gathered. 3. the contract does not purport to convey the growing crop, but is a mere executory agreement, requiring some act to be done by harrison, in order to invest the claimants with the right of property. [chit. on con. 112, 207; 3 johns. rep. 338, 424; 5 wend. rep. 26; 13 johns. rep. 235; 8 dowl. rep, 693;] and until this act was done, the crop, no matter by who gathered, because liable to be seized for harrison�s debts. a court of chancery would not compel a specific performance of the contract at the claimant�s instance. 4. the charge of the court is also objectionable in deciding disputed facts. w. m. murphy, with whom was w. g. jones, for the defendant--cited the act of 1821, [aik. dig. 167,] which declares it to be lawful to levy an execution on a planted crop, until it is gathered, and contended that no lien attached in favor of the plaintiff. this being the case, the defendant in execution was not restrained from making the contract which he did with the claimants. **2 the lien of an execution is destroyed by an injunction, because it takes away the right to levy it. in short, whenever the right to levy an execution is but temporarily suspended, or withdrawn, the lien is during that time lost. [[[[whipple v. foot, 2 johns. rep. 216; 3 wash. c. c. rep. 66; 4 how. rep. 130.] it is admitted that the contract between the defendant in execution, and the claimants, was in good faith, if so, the severance and removal of the cotton gave the latter a good title against all creditors of the former. opinion collier, c. j. there can be no doubt that a growing crop has such an existence as to be the subject matter of a sale, mortgage, or other contract which possess an interest to vest in possession, either immediately or at some future time. this proposition has frequently been assumed as unquestionable; the point of inquiry generally being, whether under a statute of frauds, such as the 29 chas. 2, it is a mere chattel, and transferrable by parol without writing. [chitty on con. 241-2, 332; whipple v. foot, 2 johns. rep. 422; stewart v. doughty, 9 johns. rep. 112; *743 austin v. sawyer, 9 cow. rep. 39. see also ravesies v. lee & alston, at last term.] the contract set out in the bill of exceptions, we are inclined to think evidences rather a mortgage than an absolute sale. it recites that the claimants are involved as indorsers of a mercantile firm, of which the defendant was a partner; that an execution for upwards of fourteen thousand dollars against their estate, is in the sheriff�s hands, and that a conveyance is made of the crop of cotton, corn and oats, which the grantor agrees to give up at any time to the use of the claimants, so as to prevent injury to them as indorsers. the defendant in execution might at any time have divested the interest which the contract vested in the claimants, by discharging their liability as his indorsers, or a judgment creditor might have satisfied the lien, and when the crop was gathered, have levied on, and sold it under a fieri facias. we will then consider the writing under which the claimants assert a right, as a mortgage with a power to take possession any time during the year, unless they should be relieved from their engagements as indorsers. it is not pretended that their liability has been satisfied, and it is admitted that the parties have acted with good faith, so that it is a dry question of law, whether the right of the plaintiff, or the claimants shall prevail. assuming for the present that the execution of the plaintiffs did not operate a lien upon the planted crop previous to the contract of may, 1840, we will inquire whether the defendant in execution had such an interest as could be levied on and sold. the claimants had previous to the levy of the execution taken possession of the crop, prepared the cotton for market, and removed it to a ware-house. this possession, it is insisted, was a trespass, because it was acquired in the absence of the defendant in execution, and without his consent then given. conceding the truth of the facts stated in the bill of exceptions, and we think it will not follow, that the possession of the claimants is a nullity, and that the case must be considered as if they had never interfered with the crop. the contract contains an express undertaking to give up the crop at any time the claimants might require it for their indemnity, and if they took possession of it in the absence of the grantor, (though without his consent,) if he subsequently acquiesced in it, the inference would be, if necessary, that their acts were approved by him. taking this to be clear *744 law, and it will be seen, that the defendant in execution at the time of the levy had nothing more than a mere equitable right to redeem the cotton by paying the debts indorsed by the claimants. he had no possession coupled with this equity, but only a naked equity, which it has been held cannot be reached by an ordinary execution. [perkins and elliott v. mayfield, 5 porter�s rep. 182.] **3 this brings us back to the question, whether the execution of the plaintiff was a lien on the growing crop, so as to defeat the mortgage to the claimants. it has been frequently mooted whether, at common law, corn, &c., before it is gathered, can be seized under a fieri facias. mr. dane, in remarking upon this point, says, �the american editor of bacon�s abridgment, says, �wheat growing in the ground is a chattel, and subject to be taken in execution; and the sheriff may suffer it to grow till harvest, and then cut and sell it; or may perhaps sell it growing, and the purchaser will then be entitled to enter, for the purpose of cutting and carrying it away.� [he cites whipple v. foot, ut supra, also poole�s case, salk. 368; 1 bos. & p. 397; 6 east, 604, n.] but whipple v. foot seems to be the only case that supports his position, that unripe wheat or corn may be taken in execution; and the same editor states that nothing can be taken in execution which cannot be sold. this position, says the learned commentator, is no doubt law. but it is unnecessary to consider how this matter stands at common law. the first section of the act of 1821, �to prevent sheriffs and other officers from levying executions in certain cases, enacts, that �it shall not be lawful for any sheriff or other officer, to levy a writ of fieri facias or other execution on the planted crop of a debtor, or person against whom an execution may issue, until the crop is gathered.� [aik. dig. 167.] now here is an express inhibition to levy an execution on a crop while it remains on, or in the ground, and until it is severed from the soil to which it owes its growth. in respect to property thus situated, will the lien of an execution attach eo instanti upon its being placed in the hands of an officer? if so, the act cited, will only have the effect of keeping the right to levy it in abeyance until the crop is gathered. the lien of an execution does, not only operate so as to prevent the debtor from disposing of the property on which it attaches, but gives to the creditor the right to have it sold to satisfy his *745 judgment. the lien and the right to levy are intimately connected, and if the latter be taken away, or suspended, the effect, at common law, is the destruction of the former. this principle is fully established by mansony and hurtell v. the president, &c. of the bank of the united states, and its assignees, and the citations contained in the opinion of the court in that case, as also in my opinion in wood v. gary, et al., both decided at the last term. that it was competent for the legislature to have made it unlawful to levy an execution on particular property, until its condition was changed, and still to give it a continuing lien, cannot be doubted; but there is nothing in the act in question to indicate that such is its intention. if the object was merely to suspend the sale, until the crop was gathered, it would have been very easy to have said so in explicit terms, but declaring as the statute does, in totidem verbis, that the execution shall not be levied, the legislature must be supposed to have meant what they have expressed. the act was induced by the doubts which existed as to what was the common law, and was intended to remove those doubts by declaring what should be the law in future. it does not create a lien or authorize a levy in a case in which the law, as it then existed, was silent. the idea that the lien attached upon the planted crop as soon as the execution was delivered to the sheriff, though the right to levy it was postponed until a severance took place, is attempted to be deduced from the last words of the section cited, viz: �until the crop is gathered.� these words cannot, upon any just principles of construction be regarded so potent as to give to an execution a retrospective effect. they do not refer to the lien, if they did they would postpone it until the crop was gathered; but it is the levy they relate to and postpone until that event takes place. **4 the right to levy an execution on a planted crop, then, being expressly taken away by the statute, the lien which is connected with and consequent upon that right, never attaches until severance. this being the case, the right of the defendant in execution to make the contract which he did, is unquestionable, and the title of the claimants, coupled as it was with the possession, was paramount to any lien which the execution could exert. the circuit judge may have mistaken the law in supposing that the contract was a sale, but if he did, an error in that respect was very immaterial, for whether a sale or mortgage, as we have *746 seen, under the facts of the case, the defendant in execution has no interest that could be seised and sold under execution. there is no assumption of any material fact in the charge; but the possession of the claimant, the time when acquired, the gathering of the crop, &c., are all referred to the determination of the jury; who are instructed, if they find them according to the evidence adduced, that no lien ever attached in favor of the plaintiff. the bona fides of the contract was conceded, so that no charge was necessary on that point, and it could not with propriety enter into the inquiry of the jury. it results from what has been said, that the judgment of the circuit court is affirmed. dissenting opinion. ormond, j. **4 the statute which presents the question before the court is, that �it shall not be lawful for any sheriff or other officer to levy a writ of fieei facias or other execution, on the planted crop of a debtor, or person against whom an execution may issue, until the crop is gathered.� [clay�s dig. 210, � 46.] i shall not enter upon the enquiry, whether, at common law, an execution could be levied upon a growing crop, though i apprehend, it would not be difficult to maintain the affirmative of the proposition. it is sufficient for my purpose, that the statute supposes such to have been the law, as it doubtless was the practice. this act must be considered in connection with the other acts upon the same subject. the policy of the state, as indicated by these statutes, is undeniably that all the property of a debtor, real and personal, to which he has a legal title, shall be subject to sale by execution, and it appears to me that it would be difficult to assign a reason for the exemption of this species of property from the claims of judgment creditors, and for giving to the defendant in execution the right to dispose of it. it appears to me, with all deference, that the argument that because the sheriff was prohibited from levying on a ��planted crop,� that therefore the execution had lost its lien, and the debtor had the right to sell it, is a non sequitur. the mischief which the statute designed to remedy was, the sacrifice which would be necessarily made by the sale of an immature crop: the statute enables the debtor to retain it until it matures, and by severing it from the soil to put it *747 in a condition to bring its value--the lien in the mean time continuing in the plaintiff in execution. **5 if further confirmation of the correctness of this view were necessary, it will be found, i think, in the language employed by the legislature. the sheriff is forbidden to levy on a �planted crop� until the crop is gathered. now, if the view taken by the majority of the court, is correct, the right secured to the plaintiff in execution, of levying on the crop after it is gathered, may be frustrated, as it was in this case, by a sale by the defendant in execution, whilst the crop is in an immature state. the construction which has been put upon the statute, involves the singular anomaly, that the legislature, for the protection of the debtor, has forbidden the plaintiff in execution to sell the property of his debtor, because it is not in a condition to bring its value, and yet permits the debtor, voluntarily, by a sale, to submit to the same sacrifice, for his own benefit. it is, in effect, a gift to the defendant in execution, of the growing crop, provided he does not gather it himself, but disposes of it in its then condition. this, i feel a thorough conviction, was not the intention of the legislature; but that it was to secure him from loss, by prohibiting a levy and sale of the crop, until it was gathered, when the temporary suspension of the right to sell, ceased. all citations 5 ala. 740, 1843 wl 284 end of document � 2019 thomson reuters. no claim to original u.s. government works. citing references (9) treatment title date type depth headnote(s) cited by 1. booker v. jones�s adm�x 55 ala. 266, 271 , ala. trover for conversion of cotton, with counts in case. appeal from the circuit court of hale. tried before the hon. m. j. saffold. dec term 1876 case � cited by 2. lehman, durr & co. v. marshall 47 ala. 362, 376 , ala. [trover for conversion of cotton.] appeal from the city court of montgomery. tried before hon. john d. cunningham. jan term 1872 case � cited by 3. bibb v. janney 45 ala. 329, 334 , ala. [garnishment; wages; waiver of exemption.] appeal from city court of montgomery. tried before hon. john d. cunningham. jan term 1871 case � cited by 4. mckenzie v. lampley 31 ala. 526, 527 , ala. [trial of right of property in cotton.] appeal from the circuit court of barbour. tried before the hon. s. d. hale. jan term 1858 case � cited by 5. evans v. lamar 21 ala. 333, 335+ , ala. error to the circuit court of autauga. tried before the hon. a. b. moore. jun term 1852 case � cited by 6. dewey v. bowman 8 cal. 145, 147 , cal. the judgment of the court below, against jacob s. cohen, should be reversed, for the following reasons: because the finding of the court was, so far as cohen was concerned,... jul term 1857 case � mentioned by 7. rees v. coats 65 ala. 256, 258 , ala. trover for conversion of three bales of cotton. appeal from the circuit court of etowah. tried before the hon. wm. l. whitlock. nov term 1880 case � mentioned by 8. edwards v. thompson 4 s.w. 913, 914 , tenn. appeal from circuit court, weakley county. may 1887 case � � 9. growing crops as subject to levy and seizure under attachment or execution 103 a.l.r. 464 generally, at common law, growing crops raised by annual planting, while still attached to the soil, are regarded as personal chattels, subject to levy and seizure under attachment... 1936 alr � � table of authorities (3) treatment referenced title type depth quoted page number mentioned 1. austin v. sawyer 9 cow. 39, n.y.sup., 1828 parol evidence is not admissible to contradict, or substantially vary, a written contract. and where a. quit-claimed land to w., on which a crop of wheat was growing, reserving the... case 2 cited 2. perkins v. mayfield 5 port. 182, ala., 1837 on writ of error to the circuit court of tuskaloosa. case 2+ mentioned 3. stewart v. doughty 9 johns. 108, n.y.sup., 1812 a. let to b. a farm for six years, and a. agreed �to render, yield and pay to a. the one half of all the wheat, rye, corn and other grain, raised on the farm in each year, in the... case 2 filings there are no filings for this citation. negative treatment there are no negative treatment results for this citation. history there are no history results for this citation.\n"
          ],
          "name": "stdout"
        }
      ]
    },
    {
      "cell_type": "code",
      "metadata": {
        "colab": {
          "base_uri": "https://localhost:8080/"
        },
        "id": "UjcREBK6zmUX",
        "outputId": "4e2d980f-68d1-43eb-837a-50cf88bceb36"
      },
      "source": [
        "punc = r\",:;'()[]{}!?-*—&/\\><§*&%$#@+=`~\"\r\n",
        "characters = [word for word in list(content) if word not in punc]\r\n",
        "punc1 = ''.join(characters)\r\n",
        "print(punc1)\r\n",
        "\r\n"
      ],
      "execution_count": 65,
      "outputs": [
        {
          "output_type": "stream",
          "text": [
            "5 ala. 740 supreme court of alabama. adams v. tanner and horton. june term 1843. synopsis writ of error to the circuit court of sumter. west headnotes 2 1 chattel mortgages crops a growing crop has such an existence as to be the subjectmatter of a mortgage or other contract which passes an interest to vest in possession either immediately or at a future time. 4 cases that cite this headnote 2 creditorsremedies lien and priority under st.1821 prohibiting a levy on a crop until it has been gathered no lien attaches in favor of a fi. fa. on a growing crop nor does such lien attach until after the crop has been gathered. 5 cases that cite this headnote 1 this was a trial of the right of property under the statute. in november 1840 an execution issued from the circuit court of sumter at the suit of the plaintiff in error requiring the sheriff of that county to make of the goods c. of allen harrison and others the sum of thirtyseven hundred and seventyseven 80100 dollars besides costs. this execution was levied on thirty bales of cotton as the property of allen harrison which was claimed and a bond given to try the right. an issue was made up to try the question of the liability of the cotton to the plaintiff�s execution and submitted to a jury. on the trial a bill of exceptions was sealed at the instance of the plaintiff. the plaintiff proved that he recovered his judgment in october 1839 that an execution 741 was issued thereon on the 7th nov. thereafter and that alias and pluries fieri facias� issued regularly up to the time levy was made that the cotton levied on was growed on the plantation of harrison and cultivated by the hands in his service. it was proved by the claimants by the production of a written contract that harrison on the twentysecond of may 1840 in consideration that the claimants were involved as indorsers for burton  harrison of sumter county and were then exposed to an execution amounting to upwards of fourteen thousand dollars bargained and sold to the claimants all his growing crop of cotton c. consisting of one hundred and twenty acres c. allen harrison promised and obliged himself to give up his crop to the use of the claimants at any time to save them from suffering as his indorsers if the crop matured and was gathered he undertook to deliver the cotton in gainesville. the claimants came from tennessee where they resided about the first of september 1840 bringing with them three or four white laborers and took possession of the crop and slaves and with the latter and white laborers gathered the cotton prepared it for market and when levied on it was in a warehouse in gainesville. the plaintiff then proved by harrison that the claimants took possession of the crop while he was absent and disposed of it without his consent. it was admitted that the contract was made in good faith. the court charged the jury that the plaintiff had no lien by virtue of his judgment and execution on the growing crop that harrison had a right to convey it without being in any manner restrained by them that the writing adduced was a sale of the crop but if it was not and the lien of the fieri facias would have attached upon it when gathered yet if the claimants obtained possession on the first of september and controlled the gathering of the crop then no lien attached and it was not subject to the levy. attorneys and law firms r. h. smith for the plaintiff in error made the following points.1. the crop of harrison must in may 1840 have been in an immature state and it is insisted was not the subject of a sale. 2. by the common law a growing crop could be levied on and sold 1 salk. rep. 361 1 bos.  p. rep. 307 6 east�s rep. 604 note 1 2 johns. rep. 418 422 7 mass. rep. 34 and our statue aik. dig. � 41 p. 167 which forbids the levy of an 742 execution on a growing crop is to receive a strict construction. it merely inhibits the levy but the lien attaches and a levy and sale may be made after the crop matures and is gathered. 3. the contract does not purport to convey the growing crop but is a mere executory agreement requiring some act to be done by harrison in order to invest the claimants with the right of property. chit. on con. 112 207 3 johns. rep. 338 424 5 wend. rep. 26 13 johns. rep. 235 8 dowl. rep 693 and until this act was done the crop no matter by who gathered because liable to be seized for harrison�s debts. a court of chancery would not compel a specific performance of the contract at the claimant�s instance. 4. the charge of the court is also objectionable in deciding disputed facts. w. m. murphy with whom was w. g. jones for the defendantcited the act of 1821 aik. dig. 167 which declares it to be lawful to levy an execution on a planted crop until it is gathered and contended that no lien attached in favor of the plaintiff. this being the case the defendant in execution was not restrained from making the contract which he did with the claimants. 2 the lien of an execution is destroyed by an injunction because it takes away the right to levy it. in short whenever the right to levy an execution is but temporarily suspended or withdrawn the lien is during that time lost. whipple v. foot 2 johns. rep. 216 3 wash. c. c. rep. 66 4 how. rep. 130. it is admitted that the contract between the defendant in execution and the claimants was in good faith if so the severance and removal of the cotton gave the latter a good title against all creditors of the former. opinion collier c. j. there can be no doubt that a growing crop has such an existence as to be the subject matter of a sale mortgage or other contract which possess an interest to vest in possession either immediately or at some future time. this proposition has frequently been assumed as unquestionable the point of inquiry generally being whether under a statute of frauds such as the 29 chas. 2 it is a mere chattel and transferrable by parol without writing. chitty on con. 2412 332 whipple v. foot 2 johns. rep. 422 stewart v. doughty 9 johns. rep. 112 743 austin v. sawyer 9 cow. rep. 39. see also ravesies v. lee  alston at last term. the contract set out in the bill of exceptions we are inclined to think evidences rather a mortgage than an absolute sale. it recites that the claimants are involved as indorsers of a mercantile firm of which the defendant was a partner that an execution for upwards of fourteen thousand dollars against their estate is in the sheriff�s hands and that a conveyance is made of the crop of cotton corn and oats which the grantor agrees to give up at any time to the use of the claimants so as to prevent injury to them as indorsers. the defendant in execution might at any time have divested the interest which the contract vested in the claimants by discharging their liability as his indorsers or a judgment creditor might have satisfied the lien and when the crop was gathered have levied on and sold it under a fieri facias. we will then consider the writing under which the claimants assert a right as a mortgage with a power to take possession any time during the year unless they should be relieved from their engagements as indorsers. it is not pretended that their liability has been satisfied and it is admitted that the parties have acted with good faith so that it is a dry question of law whether the right of the plaintiff or the claimants shall prevail. assuming for the present that the execution of the plaintiffs did not operate a lien upon the planted crop previous to the contract of may 1840 we will inquire whether the defendant in execution had such an interest as could be levied on and sold. the claimants had previous to the levy of the execution taken possession of the crop prepared the cotton for market and removed it to a warehouse. this possession it is insisted was a trespass because it was acquired in the absence of the defendant in execution and without his consent then given. conceding the truth of the facts stated in the bill of exceptions and we think it will not follow that the possession of the claimants is a nullity and that the case must be considered as if they had never interfered with the crop. the contract contains an express undertaking to give up the crop at any time the claimants might require it for their indemnity and if they took possession of it in the absence of the grantor though without his consent if he subsequently acquiesced in it the inference would be if necessary that their acts were approved by him. taking this to be clear 744 law and it will be seen that the defendant in execution at the time of the levy had nothing more than a mere equitable right to redeem the cotton by paying the debts indorsed by the claimants. he had no possession coupled with this equity but only a naked equity which it has been held cannot be reached by an ordinary execution. perkins and elliott v. mayfield 5 porter�s rep. 182. 3 this brings us back to the question whether the execution of the plaintiff was a lien on the growing crop so as to defeat the mortgage to the claimants. it has been frequently mooted whether at common law corn c. before it is gathered can be seized under a fieri facias. mr. dane in remarking upon this point says �the american editor of bacon�s abridgment says �wheat growing in the ground is a chattel and subject to be taken in execution and the sheriff may suffer it to grow till harvest and then cut and sell it or may perhaps sell it growing and the purchaser will then be entitled to enter for the purpose of cutting and carrying it away.� he cites whipple v. foot ut supra also poole�s case salk. 368 1 bos.  p. 397 6 east 604 n. but whipple v. foot seems to be the only case that supports his position that unripe wheat or corn may be taken in execution and the same editor states that nothing can be taken in execution which cannot be sold. this position says the learned commentator is no doubt law. but it is unnecessary to consider how this matter stands at common law. the first section of the act of 1821 �to prevent sheriffs and other officers from levying executions in certain cases enacts that �it shall not be lawful for any sheriff or other officer to levy a writ of fieri facias or other execution on the planted crop of a debtor or person against whom an execution may issue until the crop is gathered.� aik. dig. 167. now here is an express inhibition to levy an execution on a crop while it remains on or in the ground and until it is severed from the soil to which it owes its growth. in respect to property thus situated will the lien of an execution attach eo instanti upon its being placed in the hands of an officer if so the act cited will only have the effect of keeping the right to levy it in abeyance until the crop is gathered. the lien of an execution does not only operate so as to prevent the debtor from disposing of the property on which it attaches but gives to the creditor the right to have it sold to satisfy his 745 judgment. the lien and the right to levy are intimately connected and if the latter be taken away or suspended the effect at common law is the destruction of the former. this principle is fully established by mansony and hurtell v. the president c. of the bank of the united states and its assignees and the citations contained in the opinion of the court in that case as also in my opinion in wood v. gary et al. both decided at the last term. that it was competent for the legislature to have made it unlawful to levy an execution on particular property until its condition was changed and still to give it a continuing lien cannot be doubted but there is nothing in the act in question to indicate that such is its intention. if the object was merely to suspend the sale until the crop was gathered it would have been very easy to have said so in explicit terms but declaring as the statute does in totidem verbis that the execution shall not be levied the legislature must be supposed to have meant what they have expressed. the act was induced by the doubts which existed as to what was the common law and was intended to remove those doubts by declaring what should be the law in future. it does not create a lien or authorize a levy in a case in which the law as it then existed was silent. the idea that the lien attached upon the planted crop as soon as the execution was delivered to the sheriff though the right to levy it was postponed until a severance took place is attempted to be deduced from the last words of the section cited viz �until the crop is gathered.� these words cannot upon any just principles of construction be regarded so potent as to give to an execution a retrospective effect. they do not refer to the lien if they did they would postpone it until the crop was gathered but it is the levy they relate to and postpone until that event takes place. 4 the right to levy an execution on a planted crop then being expressly taken away by the statute the lien which is connected with and consequent upon that right never attaches until severance. this being the case the right of the defendant in execution to make the contract which he did is unquestionable and the title of the claimants coupled as it was with the possession was paramount to any lien which the execution could exert. the circuit judge may have mistaken the law in supposing that the contract was a sale but if he did an error in that respect was very immaterial for whether a sale or mortgage as we have 746 seen under the facts of the case the defendant in execution has no interest that could be seised and sold under execution. there is no assumption of any material fact in the charge but the possession of the claimant the time when acquired the gathering of the crop c. are all referred to the determination of the jury who are instructed if they find them according to the evidence adduced that no lien ever attached in favor of the plaintiff. the bona fides of the contract was conceded so that no charge was necessary on that point and it could not with propriety enter into the inquiry of the jury. it results from what has been said that the judgment of the circuit court is affirmed. dissenting opinion. ormond j. 4 the statute which presents the question before the court is that �it shall not be lawful for any sheriff or other officer to levy a writ of fieei facias or other execution on the planted crop of a debtor or person against whom an execution may issue until the crop is gathered.� clay�s dig. 210 � 46. i shall not enter upon the enquiry whether at common law an execution could be levied upon a growing crop though i apprehend it would not be difficult to maintain the affirmative of the proposition. it is sufficient for my purpose that the statute supposes such to have been the law as it doubtless was the practice. this act must be considered in connection with the other acts upon the same subject. the policy of the state as indicated by these statutes is undeniably that all the property of a debtor real and personal to which he has a legal title shall be subject to sale by execution and it appears to me that it would be difficult to assign a reason for the exemption of this species of property from the claims of judgment creditors and for giving to the defendant in execution the right to dispose of it. it appears to me with all deference that the argument that because the sheriff was prohibited from levying on a ��planted crop� that therefore the execution had lost its lien and the debtor had the right to sell it is a non sequitur. the mischief which the statute designed to remedy was the sacrifice which would be necessarily made by the sale of an immature crop the statute enables the debtor to retain it until it matures and by severing it from the soil to put it 747 in a condition to bring its valuethe lien in the mean time continuing in the plaintiff in execution. 5 if further confirmation of the correctness of this view were necessary it will be found i think in the language employed by the legislature. the sheriff is forbidden to levy on a �planted crop� until the crop is gathered. now if the view taken by the majority of the court is correct the right secured to the plaintiff in execution of levying on the crop after it is gathered may be frustrated as it was in this case by a sale by the defendant in execution whilst the crop is in an immature state. the construction which has been put upon the statute involves the singular anomaly that the legislature for the protection of the debtor has forbidden the plaintiff in execution to sell the property of his debtor because it is not in a condition to bring its value and yet permits the debtor voluntarily by a sale to submit to the same sacrifice for his own benefit. it is in effect a gift to the defendant in execution of the growing crop provided he does not gather it himself but disposes of it in its then condition. this i feel a thorough conviction was not the intention of the legislature but that it was to secure him from loss by prohibiting a levy and sale of the crop until it was gathered when the temporary suspension of the right to sell ceased. all citations 5 ala. 740 1843 wl 284 end of document � 2019 thomson reuters. no claim to original u.s. government works. citing references 9 treatment title date type depth headnotes cited by 1. booker v. jones�s adm�x 55 ala. 266 271  ala. trover for conversion of cotton with counts in case. appeal from the circuit court of hale. tried before the hon. m. j. saffold. dec term 1876 case � cited by 2. lehman durr  co. v. marshall 47 ala. 362 376  ala. trover for conversion of cotton. appeal from the city court of montgomery. tried before hon. john d. cunningham. jan term 1872 case � cited by 3. bibb v. janney 45 ala. 329 334  ala. garnishment wages waiver of exemption. appeal from city court of montgomery. tried before hon. john d. cunningham. jan term 1871 case � cited by 4. mckenzie v. lampley 31 ala. 526 527  ala. trial of right of property in cotton. appeal from the circuit court of barbour. tried before the hon. s. d. hale. jan term 1858 case � cited by 5. evans v. lamar 21 ala. 333 335  ala. error to the circuit court of autauga. tried before the hon. a. b. moore. jun term 1852 case � cited by 6. dewey v. bowman 8 cal. 145 147  cal. the judgment of the court below against jacob s. cohen should be reversed for the following reasons because the finding of the court was so far as cohen was concerned... jul term 1857 case � mentioned by 7. rees v. coats 65 ala. 256 258  ala. trover for conversion of three bales of cotton. appeal from the circuit court of etowah. tried before the hon. wm. l. whitlock. nov term 1880 case � mentioned by 8. edwards v. thompson 4 s.w. 913 914  tenn. appeal from circuit court weakley county. may 1887 case � � 9. growing crops as subject to levy and seizure under attachment or execution 103 a.l.r. 464 generally at common law growing crops raised by annual planting while still attached to the soil are regarded as personal chattels subject to levy and seizure under attachment... 1936 alr � � table of authorities 3 treatment referenced title type depth quoted page number mentioned 1. austin v. sawyer 9 cow. 39 n.y.sup. 1828 parol evidence is not admissible to contradict or substantially vary a written contract. and where a. quitclaimed land to w. on which a crop of wheat was growing reserving the... case 2 cited 2. perkins v. mayfield 5 port. 182 ala. 1837 on writ of error to the circuit court of tuskaloosa. case 2 mentioned 3. stewart v. doughty 9 johns. 108 n.y.sup. 1812 a. let to b. a farm for six years and a. agreed �to render yield and pay to a. the one half of all the wheat rye corn and other grain raised on the farm in each year in the... case 2 filings there are no filings for this citation. negative treatment there are no negative treatment results for this citation. history there are no history results for this citation.\n"
          ],
          "name": "stdout"
        }
      ]
    },
    {
      "cell_type": "code",
      "metadata": {
        "colab": {
          "base_uri": "https://localhost:8080/"
        },
        "id": "gynEJJ3xzmth",
        "outputId": "a226fe50-a7fa-4fd6-ed77-5153d50ee439"
      },
      "source": [
        "from nltk.corpus import stopwords\r\n",
        "import nltk\r\n",
        "nltk.download('stopwords')\r\n",
        "words = [char for char in content.split() if char not in stopwords.words('english')]\r\n",
        "content = ' '.join(words)\r\n",
        "print(content)"
      ],
      "execution_count": 66,
      "outputs": [
        {
          "output_type": "stream",
          "text": [
            "[nltk_data] Downloading package stopwords to /root/nltk_data...\n",
            "[nltk_data]   Package stopwords is already up-to-date!\n",
            "5 ala. 740 supreme court alabama. adams v. tanner horton. june term, 1843. synopsis writ error circuit court sumter. west headnotes (2) [1] chattel mortgages crops growing crop existence subject-matter mortgage contract passes interest vest possession, either immediately future time. 4 cases cite headnote [2] creditorsremedies lien priority st.1821, prohibiting levy crop gathered, lien attaches favor fi. fa. growing crop, lien attach crop gathered. 5 cases cite headnote **1 trial right property statute. november, 1840, execution issued circuit court sumter, suit plaintiff error, requiring sheriff county, make goods, &c., allen harrison others, sum thirty-seven hundred seventy-seven 80-100 dollars, besides costs. execution levied thirty bales cotton, property allen harrison, claimed, bond given try right. issue made try question liability cotton plaintiff�s execution, submitted jury. trial, bill exceptions sealed instance plaintiff. plaintiff proved recovered judgment october, 1839; execution *741 issued thereon 7th nov. thereafter, alias pluries fieri facias�, issued regularly time levy made; cotton levied growed plantation harrison, cultivated hands service. proved claimants, production written contract, harrison, twenty-second may, 1840, consideration claimants involved, indorsers burton & harrison sumter county, exposed execution, amounting upwards fourteen thousand dollars, bargained sold claimants growing crop cotton &c., consisting one hundred twenty acres, &c. allen harrison promised obliged give crop use claimants time save suffering indorsers; crop matured gathered undertook deliver cotton gainesville. claimants came tennessee, (where resided) first september, 1840, bringing three four white laborers, took possession crop slaves, latter, white laborers, gathered cotton, prepared market, levied on, ware-house gainesville. plaintiff proved harrison, claimants took possession crop, absent, disposed without consent. admitted, contract made good faith. court charged jury, plaintiff lien virtue judgment, execution growing crop; harrison right convey it, without manner restrained them; writing adduced, sale crop, not, lien fieri facias would attached upon it, gathered, yet claimants obtained possession first september, controlled gathering crop, lien attached, subject levy. attorneys law firms r. h. smith, plaintiff, error, made following points.--1. crop harrison, must, may, 1840, immature state, insisted, subject sale. 2. common law, growing crop could levied sold, [1 salk. rep. 361; 1 bos. & p. rep. 307; 6 east�s rep. 604, note 1; 2 johns. rep. 418, 422; 7 mass. rep. 34,] statue, [[[aik. dig. � 41, p. 167,] forbids levy *742 execution growing crop, receive strict construction. merely inhibits levy, lien attaches, levy sale may made crop matures, gathered. 3. contract purport convey growing crop, mere executory agreement, requiring act done harrison, order invest claimants right property. [chit. con. 112, 207; 3 johns. rep. 338, 424; 5 wend. rep. 26; 13 johns. rep. 235; 8 dowl. rep, 693;] act done, crop, matter gathered, liable seized harrison�s debts. court chancery would compel specific performance contract claimant�s instance. 4. charge court also objectionable deciding disputed facts. w. m. murphy, w. g. jones, defendant--cited act 1821, [aik. dig. 167,] declares lawful levy execution planted crop, gathered, contended lien attached favor plaintiff. case, defendant execution restrained making contract claimants. **2 lien execution destroyed injunction, takes away right levy it. short, whenever right levy execution temporarily suspended, withdrawn, lien time lost. [[[[whipple v. foot, 2 johns. rep. 216; 3 wash. c. c. rep. 66; 4 how. rep. 130.] admitted contract defendant execution, claimants, good faith, so, severance removal cotton gave latter good title creditors former. opinion collier, c. j. doubt growing crop existence subject matter sale, mortgage, contract possess interest vest possession, either immediately future time. proposition frequently assumed unquestionable; point inquiry generally being, whether statute frauds, 29 chas. 2, mere chattel, transferrable parol without writing. [chitty con. 241-2, 332; whipple v. foot, 2 johns. rep. 422; stewart v. doughty, 9 johns. rep. 112; *743 austin v. sawyer, 9 cow. rep. 39. see also ravesies v. lee & alston, last term.] contract set bill exceptions, inclined think evidences rather mortgage absolute sale. recites claimants involved indorsers mercantile firm, defendant partner; execution upwards fourteen thousand dollars estate, sheriff�s hands, conveyance made crop cotton, corn oats, grantor agrees give time use claimants, prevent injury indorsers. defendant execution might time divested interest contract vested claimants, discharging liability indorsers, judgment creditor might satisfied lien, crop gathered, levied on, sold fieri facias. consider writing claimants assert right, mortgage power take possession time year, unless relieved engagements indorsers. pretended liability satisfied, admitted parties acted good faith, dry question law, whether right plaintiff, claimants shall prevail. assuming present execution plaintiffs operate lien upon planted crop previous contract may, 1840, inquire whether defendant execution interest could levied sold. claimants previous levy execution taken possession crop, prepared cotton market, removed ware-house. possession, insisted, trespass, acquired absence defendant execution, without consent given. conceding truth facts stated bill exceptions, think follow, possession claimants nullity, case must considered never interfered crop. contract contains express undertaking give crop time claimants might require indemnity, took possession absence grantor, (though without consent,) subsequently acquiesced it, inference would be, necessary, acts approved him. taking clear *744 law, seen, defendant execution time levy nothing mere equitable right redeem cotton paying debts indorsed claimants. possession coupled equity, naked equity, held cannot reached ordinary execution. [perkins elliott v. mayfield, 5 porter�s rep. 182.] **3 brings us back question, whether execution plaintiff lien growing crop, defeat mortgage claimants. frequently mooted whether, common law, corn, &c., gathered, seized fieri facias. mr. dane, remarking upon point, says, �the american editor bacon�s abridgment, says, �wheat growing ground chattel, subject taken execution; sheriff may suffer grow till harvest, cut sell it; may perhaps sell growing, purchaser entitled enter, purpose cutting carrying away.� [he cites whipple v. foot, ut supra, also poole�s case, salk. 368; 1 bos. & p. 397; 6 east, 604, n.] whipple v. foot seems case supports position, unripe wheat corn may taken execution; editor states nothing taken execution cannot sold. position, says learned commentator, doubt law. unnecessary consider matter stands common law. first section act 1821, �to prevent sheriffs officers levying executions certain cases, enacts, �it shall lawful sheriff officer, levy writ fieri facias execution planted crop debtor, person execution may issue, crop gathered.� [aik. dig. 167.] express inhibition levy execution crop remains on, ground, severed soil owes growth. respect property thus situated, lien execution attach eo instanti upon placed hands officer? so, act cited, effect keeping right levy abeyance crop gathered. lien execution does, operate prevent debtor disposing property attaches, gives creditor right sold satisfy *745 judgment. lien right levy intimately connected, latter taken away, suspended, effect, common law, destruction former. principle fully established mansony hurtell v. president, &c. bank united states, assignees, citations contained opinion court case, also opinion wood v. gary, et al., decided last term. competent legislature made unlawful levy execution particular property, condition changed, still give continuing lien, cannot doubted; nothing act question indicate intention. object merely suspend sale, crop gathered, would easy said explicit terms, declaring statute does, totidem verbis, execution shall levied, legislature must supposed meant expressed. act induced doubts existed common law, intended remove doubts declaring law future. create lien authorize levy case law, existed, silent. idea lien attached upon planted crop soon execution delivered sheriff, though right levy postponed severance took place, attempted deduced last words section cited, viz: �until crop gathered.� words cannot, upon principles construction regarded potent give execution retrospective effect. refer lien, would postpone crop gathered; levy relate postpone event takes place. **4 right levy execution planted crop, then, expressly taken away statute, lien connected consequent upon right, never attaches severance. case, right defendant execution make contract did, unquestionable, title claimants, coupled possession, paramount lien execution could exert. circuit judge may mistaken law supposing contract sale, did, error respect immaterial, whether sale mortgage, *746 seen, facts case, defendant execution interest could seised sold execution. assumption material fact charge; possession claimant, time acquired, gathering crop, &c., referred determination jury; instructed, find according evidence adduced, lien ever attached favor plaintiff. bona fides contract conceded, charge necessary point, could propriety enter inquiry jury. results said, judgment circuit court affirmed. dissenting opinion. ormond, j. **4 statute presents question court is, �it shall lawful sheriff officer levy writ fieei facias execution, planted crop debtor, person execution may issue, crop gathered.� [clay�s dig. 210, � 46.] shall enter upon enquiry, whether, common law, execution could levied upon growing crop, though apprehend, would difficult maintain affirmative proposition. sufficient purpose, statute supposes law, doubtless practice. act must considered connection acts upon subject. policy state, indicated statutes, undeniably property debtor, real personal, legal title, shall subject sale execution, appears would difficult assign reason exemption species property claims judgment creditors, giving defendant execution right dispose it. appears me, deference, argument sheriff prohibited levying ��planted crop,� therefore execution lost lien, debtor right sell it, non sequitur. mischief statute designed remedy was, sacrifice would necessarily made sale immature crop: statute enables debtor retain matures, severing soil put *747 condition bring value--the lien mean time continuing plaintiff execution. **5 confirmation correctness view necessary, found, think, language employed legislature. sheriff forbidden levy �planted crop� crop gathered. now, view taken majority court, correct, right secured plaintiff execution, levying crop gathered, may frustrated, case, sale defendant execution, whilst crop immature state. construction put upon statute, involves singular anomaly, legislature, protection debtor, forbidden plaintiff execution sell property debtor, condition bring value, yet permits debtor, voluntarily, sale, submit sacrifice, benefit. is, effect, gift defendant execution, growing crop, provided gather himself, disposes condition. this, feel thorough conviction, intention legislature; secure loss, prohibiting levy sale crop, gathered, temporary suspension right sell, ceased. citations 5 ala. 740, 1843 wl 284 end document � 2019 thomson reuters. claim original u.s. government works. citing references (9) treatment title date type depth headnote(s) cited 1. booker v. jones�s adm�x 55 ala. 266, 271 , ala. trover conversion cotton, counts case. appeal circuit court hale. tried hon. m. j. saffold. dec term 1876 case � cited 2. lehman, durr & co. v. marshall 47 ala. 362, 376 , ala. [trover conversion cotton.] appeal city court montgomery. tried hon. john d. cunningham. jan term 1872 case � cited 3. bibb v. janney 45 ala. 329, 334 , ala. [garnishment; wages; waiver exemption.] appeal city court montgomery. tried hon. john d. cunningham. jan term 1871 case � cited 4. mckenzie v. lampley 31 ala. 526, 527 , ala. [trial right property cotton.] appeal circuit court barbour. tried hon. s. d. hale. jan term 1858 case � cited 5. evans v. lamar 21 ala. 333, 335+ , ala. error circuit court autauga. tried hon. a. b. moore. jun term 1852 case � cited 6. dewey v. bowman 8 cal. 145, 147 , cal. judgment court below, jacob s. cohen, reversed, following reasons: finding court was, far cohen concerned,... jul term 1857 case � mentioned 7. rees v. coats 65 ala. 256, 258 , ala. trover conversion three bales cotton. appeal circuit court etowah. tried hon. wm. l. whitlock. nov term 1880 case � mentioned 8. edwards v. thompson 4 s.w. 913, 914 , tenn. appeal circuit court, weakley county. may 1887 case � � 9. growing crops subject levy seizure attachment execution 103 a.l.r. 464 generally, common law, growing crops raised annual planting, still attached soil, regarded personal chattels, subject levy seizure attachment... 1936 alr � � table authorities (3) treatment referenced title type depth quoted page number mentioned 1. austin v. sawyer 9 cow. 39, n.y.sup., 1828 parol evidence admissible contradict, substantially vary, written contract. a. quit-claimed land w., crop wheat growing, reserving the... case 2 cited 2. perkins v. mayfield 5 port. 182, ala., 1837 writ error circuit court tuskaloosa. case 2+ mentioned 3. stewart v. doughty 9 johns. 108, n.y.sup., 1812 a. let b. farm six years, a. agreed �to render, yield pay a. one half wheat, rye, corn grain, raised farm year, the... case 2 filings filings citation. negative treatment negative treatment results citation. history history results citation.\n"
          ],
          "name": "stdout"
        }
      ]
    },
    {
      "cell_type": "code",
      "metadata": {
        "colab": {
          "base_uri": "https://localhost:8080/"
        },
        "id": "PGS_oCJhznHO",
        "outputId": "7a30a41d-f266-4dde-e1a9-7daf2c731d1e"
      },
      "source": [
        "from textblob import TextBlob\r\n",
        "correct = []\r\n",
        "for char in content.split(' '):\r\n",
        "    char = str(TextBlob(char).correct())\r\n",
        "    correct.append(char)\r\n",
        "content= ' '.join(correct)\r\n",
        "print(content)"
      ],
      "execution_count": 68,
      "outputs": [
        {
          "output_type": "stream",
          "text": [
            "5 all. 740 supreme court alabama. adams v. manner norton. june term, 1843. sycosis writ error circuit court sumter. west headnotes (2) [1] chattel mortgages crops growing crop existence subject-matter mortgage contract passes interest vest possession, either immediately future time. 4 cases cite headnote [2] creditorsremedies line priority st.1821, prohibiting levy crop gathered, line attaches favor i. a. growing crop, line attach crop gathered. 5 cases cite headnote **1 trial right property statute. november, 1840, execution issued circuit court sumter, suit plaintiff error, requiring sheriff county, make goods, &c., allen harrison others, sum thirty-seven hundred seventy-seven 80-100 dollars, besides costs. execution levied thirty bales cotton, property allen harrison, claimed, bond given try right. issue made try question liability cotton plaintiff�s execution, submitted jury. trial, bill exceptions sealed instance plaintiff. plaintiff proved recovered judgment october, 1839; execution *741 issued thereon th nov. thereafter, alias plunies fiery facial�, issued regularly time levy made; cotton levied growled plantation harrison, cultivated hands service. proved claimants, production written contract, harrison, twenty-second may, 1840, consideration claimants involved, indorsed button & harrison sumter county, exposed execution, amounting upwards fourteen thousand dollars, bargained sold claimants growing crop cotton &c., consisting one hundred twenty acres, &c. allen harrison promised obliged give crop use claimants time save suffering indorsed; crop matured gathered undertook deliver cotton gainesville. claimants came tennessee, (where resided) first september, 1840, bringing three four white laborers, took possession crop slaves, latter, white laborers, gathered cotton, prepared market, levied on, ware-house gainesville. plaintiff proved harrison, claimants took possession crop, absent, disposed without consent. admitted, contract made good faith. court charged jury, plaintiff line virtue judgment, execution growing crop; harrison right convey it, without manner restrained them; writing added, sale crop, not, line fiery facial would attached upon it, gathered, yet claimants obtained possession first september, controlled gathering crop, line attached, subject levy. attorneys law firms r. h. smith, plaintiff, error, made following points.--1. crop harrison, must, may, 1840, immature state, insisted, subject sale. 2. common law, growing crop could levied sold, [1 talk. rep. 361; 1 boy. & p. rep. 307; 6 east�s rep. 604, note 1; 2 john. rep. 418, 422; 7 mass. rep. 34,] statue, [[[ask. dig. � 41, p. 167,] forbids levy *742 execution growing crop, receive strict construction. merely inhibit levy, line attaches, levy sale may made crop mature, gathered. 3. contract purport convey growing crop, mere executor agreement, requiring act done harrison, order invest claimants right property. [chit. con. 112, 207; 3 john. rep. 338, 424; 5 went. rep. 26; 13 john. rep. 235; 8 down. rep, 693;] act done, crop, matter gathered, liable seized harrison�s debts. court chancery would compel specific performance contract claimant�s instance. 4. charge court also objectionable deciding disputed facts. w. m. murphy, w. g. jones, defendant--cited act 1821, [ask. dig. 167,] declares lawful levy execution planted crop, gathered, contended line attached favor plaintiff. case, defendant execution restrained making contract claimants. **2 line execution destroyed injunction, takes away right levy it. short, whenever right levy execution temporarily suspended, withdrawn, line time lost. [[[[while v. foot, 2 john. rep. 216; 3 wash. c. c. rep. 66; 4 how. rep. 130.] admitted contract defendant execution, claimants, good faith, so, severance removal cotton gave latter good title creditors former. opinion soldier, c. j. doubt growing crop existence subject matter sale, mortgage, contract possess interest vest possession, either immediately future time. proposition frequently assumed unquestionable; point inquiry generally being, whether statute frauds, 29 chas. 2, mere chattel, transferrable patrol without writing. [chatty con. 241-2, 332; while v. foot, 2 john. rep. 422; stewart v. doughy, 9 john. rep. 112; *743 austin v. lawyer, 9 cow. rep. 39. see also reveries v. lee & alton, last term.] contract set bill exceptions, inclined think evidences rather mortgage absolute sale. recite claimants involved indorsed mercantile firm, defendant partner; execution upwards fourteen thousand dollars estate, sheriff�s hands, conveyance made crop cotton, corn oats, grant agrees give time use claimants, prevent injury indorsed. defendant execution might time divested interest contract vested claimants, discharging liability indorsed, judgment creditor might satisfied line, crop gathered, levied on, sold fiery facial. consider writing claimants assert right, mortgage power take possession time year, unless relieved engagements indorsed. pretended liability satisfied, admitted parties acted good faith, dry question law, whether right plaintiff, claimants shall prevail. assuming present execution plaintiff operate line upon planted crop previous contract may, 1840, inquire whether defendant execution interest could levied sold. claimants previous levy execution taken possession crop, prepared cotton market, removed ware-house. possession, insisted, trespass, acquired absence defendant execution, without consent given. conceding truth facts stated bill exceptions, think follow, possession claimants nullify, case must considered never interfered crop. contract contains express undertaking give crop time claimants might require indemnity, took possession absence grant, (though without consent,) subsequently acquiesced it, inference would be, necessary, acts approved him. taking clear *744 law, seen, defendant execution time levy nothing mere equitable right redeem cotton paying debts indorsed claimants. possession coupled equity, naked equity, held cannot reached ordinary execution. [persons elliott v. hayfield, 5 porter�s rep. 182.] **3 brings us back question, whether execution plaintiff line growing crop, defeat mortgage claimants. frequently looted whether, common law, corn, &c., gathered, seized fiery facial. mr. dane, remarking upon point, says, �the american editor bacon�s abridgment, says, �wheat growing ground chattel, subject taken execution; sheriff may suffer grow till harvest, cut sell it; may perhaps sell growing, purchaser entitled enter, purpose cutting carrying away.� [he cities while v. foot, ut supra, also pool�s case, talk. 368; 1 boy. & p. 397; 6 east, 604, n.] while v. foot seems case supports position, unripe wheat corn may taken execution; editor states nothing taken execution cannot sold. position, says learned commentator, doubt law. unnecessary consider matter stands common law. first section act 1821, �to prevent sheriff officers levying executions certain cases, enacts, �it shall lawful sheriff officer, levy writ fiery facial execution planted crop debtor, person execution may issue, crop gathered.� [ask. dig. 167.] express inhibition levy execution crop remains on, ground, severed soil owes growth. respect property thus situated, line execution attach to instant upon placed hands officer? so, act cited, effect keeping right levy abeyance crop gathered. line execution does, operate prevent debtor disposing property attaches, gives creditor right sold satisfy *745 judgment. line right levy intimately connected, latter taken away, suspended, effect, common law, destruction former. principle fully established mason hurtell v. president, &c. bank united states, assigned, situations contained opinion court case, also opinion wood v. mary, et al., decided last term. competent legislature made unlawful levy execution particular property, condition changed, still give continuing line, cannot doubted; nothing act question indicate intention. object merely suspend sale, crop gathered, would easy said explicit terms, declaring statute does, totidem verbs, execution shall levied, legislature must supposed meant expressed. act induced doubts existed common law, intended remove doubts declaring law future. create line authorize levy case law, existed, silent. idea line attached upon planted crop soon execution delivered sheriff, though right levy postponed severance took place, attempted deduced last words section cited, viz: �until crop gathered.� words cannot, upon principles construction regarded potent give execution introspective effect. refer line, would postpone crop gathered; levy relate postpone event takes place. **4 right levy execution planted crop, then, expressly taken away statute, line connected consequent upon right, never attaches severance. case, right defendant execution make contract did, unquestionable, title claimants, coupled possession, paramount line execution could exert. circuit judge may mistaken law supposing contract sale, did, error respect material, whether sale mortgage, *746 seen, facts case, defendant execution interest could seized sold execution. assumption material fact charge; possession claimant, time acquired, gathering crop, &c., referred determination jury; instructed, find according evidence added, line ever attached favor plaintiff. bone sides contract conceded, charge necessary point, could propriety enter inquiry jury. results said, judgment circuit court affirmed. dissenting opinion. mormons, j. **4 statute presents question court is, �it shall lawful sheriff officer levy writ free facial execution, planted crop debtor, person execution may issue, crop gathered.� [clay�s dig. 210, � 46.] shall enter upon enquiry, whether, common law, execution could levied upon growing crop, though apprehend, would difficult maintain affirmative proposition. sufficient purpose, statute supposes law, doubtless practice. act must considered connection acts upon subject. policy state, indicated statutes, undeniably property debtor, real personal, legal title, shall subject sale execution, appears would difficult assign reason exemption species property claims judgment creditors, giving defendant execution right dispose it. appears me, deference, argument sheriff prohibited levying ��planted crop,� therefore execution lost line, debtor right sell it, non sequitur. mischief statute designed remedy was, sacrifice would necessarily made sale immature crop: statute enables debtor retain mature, severing soil put *747 condition bring value--the line mean time continuing plaintiff execution. **5 confirmation correctness view necessary, found, think, language employed legislature. sheriff forbidden levy �planted crop� crop gathered. now, view taken majority court, correct, right secured plaintiff execution, levying crop gathered, may frustrated, case, sale defendant execution, whilst crop immature state. construction put upon statute, involves singular animal, legislature, protection debtor, forbidden plaintiff execution sell property debtor, condition bring value, yet permits debtor, voluntarily, sale, submit sacrifice, benefit. is, effect, gift defendant execution, growing crop, provided gather himself, disposed condition. this, feel thorough conviction, intention legislature; secure loss, prohibiting levy sale crop, gathered, temporary suspension right sell, ceased. situations 5 all. 740, 1843 we 284 end document � 2019 thomson renters. claim original u.s. government works. biting references (9) treatment title date type depth headnote(s) cited 1. hooker v. jones�s am�x 55 all. 266, 271 , all. grover conversion cotton, counts case. appeal circuit court hale. tried hon. m. j. scaffold. dec term 1876 case � cited 2. german, burr & co. v. marshall 47 all. 362, 376 , all. [grover conversion cotton.] appeal city court montgomery. tried hon. john d. cunningham. jan term 1872 case � cited 3. gibb v. manner 45 all. 329, 334 , all. [banishment; wages; waiter exemption.] appeal city court montgomery. tried hon. john d. cunningham. jan term 1871 case � cited 4. mckenzie v. ample 31 all. 526, 527 , all. [trial right property cotton.] appeal circuit court harbour. tried hon. s. d. hale. jan term 1858 case � cited 5. evans v. later 21 all. 333, 335+ , all. error circuit court autauga. tried hon. a. b. moore. run term 1852 case � cited 6. dewey v. woman 8 cal. 145, 147 , cal. judgment court below, jacob s. cohens, reversed, following reasons: finding court was, far cohens concerned,... july term 1857 case � mentioned 7. trees v. coats 65 all. 256, 258 , all. grover conversion three bales cotton. appeal circuit court etowah. tried hon. wm. l. whitlow. nov term 1880 case � mentioned 8. edwards v. thompson 4 s.w. 913, 914 , tenn. appeal circuit court, weakly county. may 1887 case � � 9. growing crops subject levy seizure attachment execution 103 a.l.r. 464 generally, common law, growing crops raised annual planting, still attached soil, regarded personal chattel, subject levy seizure attachment... 1936 all � � table authorities (3) treatment reference title type depth quoted page number mentioned 1. austin v. lawyer 9 cow. 39, n.y.sup., 1828 patrol evidence admissible contradict, substantially vary, written contract. a. quit-claimed land w., crop wheat growing, reserving the... case 2 cited 2. persons v. hayfield 5 port. 182, all., 1837 writ error circuit court tuskaloosa. case 2+ mentioned 3. stewart v. doughy 9 john. 108, n.y.sup., 1812 a. let b. farm six years, a. agreed �to render, yield pay a. one half wheat, rye, corn grain, raised farm year, the... case 2 filing filing situation. negative treatment negative treatment results situation. history history results situation.\n"
          ],
          "name": "stdout"
        }
      ]
    },
    {
      "cell_type": "code",
      "metadata": {
        "colab": {
          "base_uri": "https://localhost:8080/"
        },
        "id": "rSEaXLgaznls",
        "outputId": "8cc4ed83-fad3-403e-d0b4-c09c36faa7e3"
      },
      "source": [
        "from nltk.stem import PorterStemmer\r\n",
        "stems = PorterStemmer()\r\n",
        "stemming = [stems.stem(word) for word in content.split()]\r\n",
        "content = ' '.join(stemming)\r\n",
        "print(content)"
      ],
      "execution_count": 73,
      "outputs": [
        {
          "output_type": "stream",
          "text": [
            "5 all. 740 suprem court alabama. adam v. manner norton. june term, 1843. sycosi writ error circuit court sumter. west headnot (2) [1] chattel mortgag crop grow crop exist subject-matt mortgag contract pass interest vest possession, either immedi futur time. 4 case cite headnot [2] creditorsremedi line prioriti st.1821, prohibit levi crop gathered, line attach favor i. a. grow crop, line attach crop gathered. 5 case cite headnot **1 trial right properti statute. november, 1840, execut issu circuit court sumter, suit plaintiff error, requir sheriff county, make goods, &c., allen harrison others, sum thirty-seven hundr seventy-seven 80-100 dollars, besid costs. execut levi thirti bale cotton, properti allen harrison, claimed, bond given tri right. issu made tri question liabil cotton plaintiff� execution, submit jury. trial, bill except seal instanc plaintiff. plaintiff prove recov judgment october, 1839; execut *741 issu thereon th nov. thereafter, alia pluni fieri facial�, issu regularli time levi made; cotton levi growl plantat harrison, cultiv hand service. prove claimants, product written contract, harrison, twenty-second may, 1840, consider claimant involved, indors button & harrison sumter county, expos execution, amount upward fourteen thousand dollars, bargain sold claimant grow crop cotton &c., consist one hundr twenti acres, &c. allen harrison promis oblig give crop use claimant time save suffer indorsed; crop matur gather undertook deliv cotton gainesville. claimant came tennessee, (where resided) first september, 1840, bring three four white laborers, took possess crop slaves, latter, white laborers, gather cotton, prepar market, levi on, ware-hous gainesville. plaintiff prove harrison, claimant took possess crop, absent, dispos without consent. admitted, contract made good faith. court charg jury, plaintiff line virtu judgment, execut grow crop; harrison right convey it, without manner restrain them; write added, sale crop, not, line fieri facial would attach upon it, gathered, yet claimant obtain possess first september, control gather crop, line attached, subject levy. attorney law firm r. h. smith, plaintiff, error, made follow points.--1. crop harrison, must, may, 1840, immatur state, insisted, subject sale. 2. common law, grow crop could levi sold, [1 talk. rep. 361; 1 boy. & p. rep. 307; 6 east� rep. 604, note 1; 2 john. rep. 418, 422; 7 mass. rep. 34,] statue, [[[ask. dig. � 41, p. 167,] forbid levi *742 execut grow crop, receiv strict construction. mere inhibit levy, line attaches, levi sale may made crop mature, gathered. 3. contract purport convey grow crop, mere executor agreement, requir act done harrison, order invest claimant right property. [chit. con. 112, 207; 3 john. rep. 338, 424; 5 went. rep. 26; 13 john. rep. 235; 8 down. rep, 693;] act done, crop, matter gathered, liabl seiz harrison� debts. court chanceri would compel specif perform contract claimant� instance. 4. charg court also objection decid disput facts. w. m. murphy, w. g. jones, defendant--cit act 1821, [ask. dig. 167,] declar law levi execut plant crop, gathered, contend line attach favor plaintiff. case, defend execut restrain make contract claimants. **2 line execut destroy injunction, take away right levi it. short, whenev right levi execut temporarili suspended, withdrawn, line time lost. [[[[while v. foot, 2 john. rep. 216; 3 wash. c. c. rep. 66; 4 how. rep. 130.] admit contract defend execution, claimants, good faith, so, sever remov cotton gave latter good titl creditor former. opinion soldier, c. j. doubt grow crop exist subject matter sale, mortgage, contract possess interest vest possession, either immedi futur time. proposit frequent assum unquestionable; point inquiri gener being, whether statut frauds, 29 chas. 2, mere chattel, transferr patrol without writing. [chatti con. 241-2, 332; while v. foot, 2 john. rep. 422; stewart v. doughy, 9 john. rep. 112; *743 austin v. lawyer, 9 cow. rep. 39. see also reveri v. lee & alton, last term.] contract set bill exceptions, inclin think evid rather mortgag absolut sale. recit claimant involv indors mercantil firm, defend partner; execut upward fourteen thousand dollar estate, sheriff� hands, convey made crop cotton, corn oats, grant agre give time use claimants, prevent injuri indorsed. defend execut might time divest interest contract vest claimants, discharg liabil indorsed, judgment creditor might satisfi line, crop gathered, levi on, sold fieri facial. consid write claimant assert right, mortgag power take possess time year, unless reliev engag indorsed. pretend liabil satisfied, admit parti act good faith, dri question law, whether right plaintiff, claimant shall prevail. assum present execut plaintiff oper line upon plant crop previou contract may, 1840, inquir whether defend execut interest could levi sold. claimant previou levi execut taken possess crop, prepar cotton market, remov ware-house. possession, insisted, trespass, acquir absenc defend execution, without consent given. conced truth fact state bill exceptions, think follow, possess claimant nullify, case must consid never interf crop. contract contain express undertak give crop time claimant might requir indemnity, took possess absenc grant, (though without consent,) subsequ acquiesc it, infer would be, necessary, act approv him. take clear *744 law, seen, defend execut time levi noth mere equit right redeem cotton pay debt indors claimants. possess coupl equity, nake equity, held cannot reach ordinari execution. [person elliott v. hayfield, 5 porter� rep. 182.] **3 bring us back question, whether execut plaintiff line grow crop, defeat mortgag claimants. frequent loot whether, common law, corn, &c., gathered, seiz fieri facial. mr. dane, remark upon point, says, �the american editor bacon� abridgment, says, �wheat grow ground chattel, subject taken execution; sheriff may suffer grow till harvest, cut sell it; may perhap sell growing, purchas entitl enter, purpos cut carri away.� [he citi while v. foot, ut supra, also pool� case, talk. 368; 1 boy. & p. 397; 6 east, 604, n.] while v. foot seem case support position, unrip wheat corn may taken execution; editor state noth taken execut cannot sold. position, say learn commentator, doubt law. unnecessari consid matter stand common law. first section act 1821, �to prevent sheriff offic levi execut certain cases, enacts, �it shall law sheriff officer, levi writ fieri facial execut plant crop debtor, person execut may issue, crop gathered.� [ask. dig. 167.] express inhibit levi execut crop remain on, ground, sever soil owe growth. respect properti thu situated, line execut attach to instant upon place hand officer? so, act cited, effect keep right levi abey crop gathered. line execut does, oper prevent debtor dispos properti attaches, give creditor right sold satisfi *745 judgment. line right levi intim connected, latter taken away, suspended, effect, common law, destruct former. principl fulli establish mason hurtel v. president, &c. bank unit states, assigned, situat contain opinion court case, also opinion wood v. mary, et al., decid last term. compet legislatur made unlaw levi execut particular property, condit changed, still give continu line, cannot doubted; noth act question indic intention. object mere suspend sale, crop gathered, would easi said explicit terms, declar statut does, totidem verbs, execut shall levied, legislatur must suppos meant expressed. act induc doubt exist common law, intend remov doubt declar law future. creat line author levi case law, existed, silent. idea line attach upon plant crop soon execut deliv sheriff, though right levi postpon sever took place, attempt deduc last word section cited, viz: �until crop gathered.� word cannot, upon principl construct regard potent give execut introspect effect. refer line, would postpon crop gathered; levi relat postpon event take place. **4 right levi execut plant crop, then, expressli taken away statute, line connect consequ upon right, never attach severance. case, right defend execut make contract did, unquestionable, titl claimants, coupl possession, paramount line execut could exert. circuit judg may mistaken law suppos contract sale, did, error respect material, whether sale mortgage, *746 seen, fact case, defend execut interest could seiz sold execution. assumpt materi fact charge; possess claimant, time acquired, gather crop, &c., refer determin jury; instructed, find accord evid added, line ever attach favor plaintiff. bone side contract conceded, charg necessari point, could proprieti enter inquiri jury. result said, judgment circuit court affirmed. dissent opinion. mormons, j. **4 statut present question court is, �it shall law sheriff offic levi writ free facial execution, plant crop debtor, person execut may issue, crop gathered.� [clay� dig. 210, � 46.] shall enter upon enquiry, whether, common law, execut could levi upon grow crop, though apprehend, would difficult maintain affirm proposition. suffici purpose, statut suppos law, doubtless practice. act must consid connect act upon subject. polici state, indic statutes, undeni properti debtor, real personal, legal title, shall subject sale execution, appear would difficult assign reason exempt speci properti claim judgment creditors, give defend execut right dispos it. appear me, deference, argument sheriff prohibit levi ��plant crop,� therefor execut lost line, debtor right sell it, non sequitur. mischief statut design remedi was, sacrific would necessarili made sale immatur crop: statut enabl debtor retain mature, sever soil put *747 condit bring value--th line mean time continu plaintiff execution. **5 confirm correct view necessary, found, think, languag employ legislature. sheriff forbidden levi �plant crop� crop gathered. now, view taken major court, correct, right secur plaintiff execution, levi crop gathered, may frustrated, case, sale defend execution, whilst crop immatur state. construct put upon statute, involv singular animal, legislature, protect debtor, forbidden plaintiff execut sell properti debtor, condit bring value, yet permit debtor, voluntarily, sale, submit sacrifice, benefit. is, effect, gift defend execution, grow crop, provid gather himself, dispos condition. this, feel thorough conviction, intent legislature; secur loss, prohibit levi sale crop, gathered, temporari suspens right sell, ceased. situat 5 all. 740, 1843 we 284 end document � 2019 thomson renters. claim origin u.s. govern works. bite refer (9) treatment titl date type depth headnote(s) cite 1. hooker v. jones� am�x 55 all. 266, 271 , all. grover convers cotton, count case. appeal circuit court hale. tri hon. m. j. scaffold. dec term 1876 case � cite 2. german, burr & co. v. marshal 47 all. 362, 376 , all. [grover convers cotton.] appeal citi court montgomery. tri hon. john d. cunningham. jan term 1872 case � cite 3. gibb v. manner 45 all. 329, 334 , all. [banishment; wages; waiter exemption.] appeal citi court montgomery. tri hon. john d. cunningham. jan term 1871 case � cite 4. mckenzi v. ampl 31 all. 526, 527 , all. [trial right properti cotton.] appeal circuit court harbour. tri hon. s. d. hale. jan term 1858 case � cite 5. evan v. later 21 all. 333, 335+ , all. error circuit court autauga. tri hon. a. b. moore. run term 1852 case � cite 6. dewey v. woman 8 cal. 145, 147 , cal. judgment court below, jacob s. cohens, reversed, follow reasons: find court was, far cohen concerned,... juli term 1857 case � mention 7. tree v. coat 65 all. 256, 258 , all. grover convers three bale cotton. appeal circuit court etowah. tri hon. wm. l. whitlow. nov term 1880 case � mention 8. edward v. thompson 4 s.w. 913, 914 , tenn. appeal circuit court, weakli county. may 1887 case � � 9. grow crop subject levi seizur attach execut 103 a.l.r. 464 generally, common law, grow crop rais annual planting, still attach soil, regard person chattel, subject levi seizur attachment... 1936 all � � tabl author (3) treatment refer titl type depth quot page number mention 1. austin v. lawyer 9 cow. 39, n.y.sup., 1828 patrol evid admiss contradict, substanti vary, written contract. a. quit-claim land w., crop wheat growing, reserv the... case 2 cite 2. person v. hayfield 5 port. 182, all., 1837 writ error circuit court tuskaloosa. case 2+ mention 3. stewart v. doughi 9 john. 108, n.y.sup., 1812 a. let b. farm six years, a. agre �to render, yield pay a. one half wheat, rye, corn grain, rais farm year, the... case 2 file file situation. neg treatment neg treatment result situation. histori histori result situation.\n"
          ],
          "name": "stdout"
        }
      ]
    },
    {
      "cell_type": "code",
      "metadata": {
        "colab": {
          "base_uri": "https://localhost:8080/"
        },
        "id": "CyEny7AC3At4",
        "outputId": "0036a00b-7731-4287-8304-c007cd1b27e6"
      },
      "source": [
        "from textblob import Word\r\n",
        "import nltk\r\n",
        "nltk.download('wordnet')\r\n",
        "lemmization = [Word(word).lemmatize() for word in content.split()]\r\n",
        "content = ' '.join(lemmization)\r\n",
        "print(content)"
      ],
      "execution_count": 74,
      "outputs": [
        {
          "output_type": "stream",
          "text": [
            "[nltk_data] Downloading package wordnet to /root/nltk_data...\n",
            "[nltk_data]   Unzipping corpora/wordnet.zip.\n",
            "5 all. 740 suprem court alabama. adam v. manner norton. june term, 1843. sycosi writ error circuit court sumter. west headnot (2) [1] chattel mortgag crop grow crop exist subject-matt mortgag contract pas interest vest possession, either immedi futur time. 4 case cite headnot [2] creditorsremedi line prioriti st.1821, prohibit levi crop gathered, line attach favor i. a. grow crop, line attach crop gathered. 5 case cite headnot **1 trial right properti statute. november, 1840, execut issu circuit court sumter, suit plaintiff error, requir sheriff county, make goods, &c., allen harrison others, sum thirty-seven hundr seventy-seven 80-100 dollars, besid costs. execut levi thirti bale cotton, properti allen harrison, claimed, bond given tri right. issu made tri question liabil cotton plaintiff� execution, submit jury. trial, bill except seal instanc plaintiff. plaintiff prove recov judgment october, 1839; execut *741 issu thereon th nov. thereafter, alia pluni fieri facial�, issu regularli time levi made; cotton levi growl plantat harrison, cultiv hand service. prove claimants, product written contract, harrison, twenty-second may, 1840, consider claimant involved, indors button & harrison sumter county, expo execution, amount upward fourteen thousand dollars, bargain sold claimant grow crop cotton &c., consist one hundr twenti acres, &c. allen harrison promis oblig give crop use claimant time save suffer indorsed; crop matur gather undertook deliv cotton gainesville. claimant came tennessee, (where resided) first september, 1840, bring three four white laborers, took posse crop slaves, latter, white laborers, gather cotton, prepar market, levi on, ware-hous gainesville. plaintiff prove harrison, claimant took posse crop, absent, dispos without consent. admitted, contract made good faith. court charg jury, plaintiff line virtu judgment, execut grow crop; harrison right convey it, without manner restrain them; write added, sale crop, not, line fieri facial would attach upon it, gathered, yet claimant obtain posse first september, control gather crop, line attached, subject levy. attorney law firm r. h. smith, plaintiff, error, made follow points.--1. crop harrison, must, may, 1840, immatur state, insisted, subject sale. 2. common law, grow crop could levi sold, [1 talk. rep. 361; 1 boy. & p. rep. 307; 6 east� rep. 604, note 1; 2 john. rep. 418, 422; 7 mass. rep. 34,] statue, [[[ask. dig. � 41, p. 167,] forbid levi *742 execut grow crop, receiv strict construction. mere inhibit levy, line attaches, levi sale may made crop mature, gathered. 3. contract purport convey grow crop, mere executor agreement, requir act done harrison, order invest claimant right property. [chit. con. 112, 207; 3 john. rep. 338, 424; 5 went. rep. 26; 13 john. rep. 235; 8 down. rep, 693;] act done, crop, matter gathered, liabl seiz harrison� debts. court chanceri would compel specif perform contract claimant� instance. 4. charg court also objection decid disput facts. w. m. murphy, w. g. jones, defendant--cit act 1821, [ask. dig. 167,] declar law levi execut plant crop, gathered, contend line attach favor plaintiff. case, defend execut restrain make contract claimants. **2 line execut destroy injunction, take away right levi it. short, whenev right levi execut temporarili suspended, withdrawn, line time lost. [[[[while v. foot, 2 john. rep. 216; 3 wash. c. c. rep. 66; 4 how. rep. 130.] admit contract defend execution, claimants, good faith, so, sever remov cotton gave latter good titl creditor former. opinion soldier, c. j. doubt grow crop exist subject matter sale, mortgage, contract posse interest vest possession, either immedi futur time. proposit frequent assum unquestionable; point inquiri gener being, whether statut frauds, 29 chas. 2, mere chattel, transferr patrol without writing. [chatti con. 241-2, 332; while v. foot, 2 john. rep. 422; stewart v. doughy, 9 john. rep. 112; *743 austin v. lawyer, 9 cow. rep. 39. see also reveri v. lee & alton, last term.] contract set bill exceptions, inclin think evid rather mortgag absolut sale. recit claimant involv indors mercantil firm, defend partner; execut upward fourteen thousand dollar estate, sheriff� hands, convey made crop cotton, corn oats, grant agre give time use claimants, prevent injuri indorsed. defend execut might time divest interest contract vest claimants, discharg liabil indorsed, judgment creditor might satisfi line, crop gathered, levi on, sold fieri facial. consid write claimant assert right, mortgag power take posse time year, unless reliev engag indorsed. pretend liabil satisfied, admit parti act good faith, dri question law, whether right plaintiff, claimant shall prevail. assum present execut plaintiff oper line upon plant crop previou contract may, 1840, inquir whether defend execut interest could levi sold. claimant previou levi execut taken posse crop, prepar cotton market, remov ware-house. possession, insisted, trespass, acquir absenc defend execution, without consent given. conced truth fact state bill exceptions, think follow, posse claimant nullify, case must consid never interf crop. contract contain express undertak give crop time claimant might requir indemnity, took posse absenc grant, (though without consent,) subsequ acquiesc it, infer would be, necessary, act approv him. take clear *744 law, seen, defend execut time levi noth mere equit right redeem cotton pay debt indors claimants. posse coupl equity, nake equity, held cannot reach ordinari execution. [person elliott v. hayfield, 5 porter� rep. 182.] **3 bring u back question, whether execut plaintiff line grow crop, defeat mortgag claimants. frequent loot whether, common law, corn, &c., gathered, seiz fieri facial. mr. dane, remark upon point, says, �the american editor bacon� abridgment, says, �wheat grow ground chattel, subject taken execution; sheriff may suffer grow till harvest, cut sell it; may perhap sell growing, purchas entitl enter, purpos cut carri away.� [he citi while v. foot, ut supra, also pool� case, talk. 368; 1 boy. & p. 397; 6 east, 604, n.] while v. foot seem case support position, unrip wheat corn may taken execution; editor state noth taken execut cannot sold. position, say learn commentator, doubt law. unnecessari consid matter stand common law. first section act 1821, �to prevent sheriff offic levi execut certain cases, enacts, �it shall law sheriff officer, levi writ fieri facial execut plant crop debtor, person execut may issue, crop gathered.� [ask. dig. 167.] express inhibit levi execut crop remain on, ground, sever soil owe growth. respect properti thu situated, line execut attach to instant upon place hand officer? so, act cited, effect keep right levi abey crop gathered. line execut does, oper prevent debtor dispos properti attaches, give creditor right sold satisfi *745 judgment. line right levi intim connected, latter taken away, suspended, effect, common law, destruct former. principl fulli establish mason hurtel v. president, &c. bank unit states, assigned, situat contain opinion court case, also opinion wood v. mary, et al., decid last term. compet legislatur made unlaw levi execut particular property, condit changed, still give continu line, cannot doubted; noth act question indic intention. object mere suspend sale, crop gathered, would easi said explicit terms, declar statut does, totidem verbs, execut shall levied, legislatur must suppos meant expressed. act induc doubt exist common law, intend remov doubt declar law future. creat line author levi case law, existed, silent. idea line attach upon plant crop soon execut deliv sheriff, though right levi postpon sever took place, attempt deduc last word section cited, viz: �until crop gathered.� word cannot, upon principl construct regard potent give execut introspect effect. refer line, would postpon crop gathered; levi relat postpon event take place. **4 right levi execut plant crop, then, expressli taken away statute, line connect consequ upon right, never attach severance. case, right defend execut make contract did, unquestionable, titl claimants, coupl possession, paramount line execut could exert. circuit judg may mistaken law suppos contract sale, did, error respect material, whether sale mortgage, *746 seen, fact case, defend execut interest could seiz sold execution. assumpt materi fact charge; posse claimant, time acquired, gather crop, &c., refer determin jury; instructed, find accord evid added, line ever attach favor plaintiff. bone side contract conceded, charg necessari point, could proprieti enter inquiri jury. result said, judgment circuit court affirmed. dissent opinion. mormons, j. **4 statut present question court is, �it shall law sheriff offic levi writ free facial execution, plant crop debtor, person execut may issue, crop gathered.� [clay� dig. 210, � 46.] shall enter upon enquiry, whether, common law, execut could levi upon grow crop, though apprehend, would difficult maintain affirm proposition. suffici purpose, statut suppos law, doubtless practice. act must consid connect act upon subject. polici state, indic statutes, undeni properti debtor, real personal, legal title, shall subject sale execution, appear would difficult assign reason exempt speci properti claim judgment creditors, give defend execut right dispos it. appear me, deference, argument sheriff prohibit levi ��plant crop,� therefor execut lost line, debtor right sell it, non sequitur. mischief statut design remedi was, sacrific would necessarili made sale immatur crop: statut enabl debtor retain mature, sever soil put *747 condit bring value--th line mean time continu plaintiff execution. **5 confirm correct view necessary, found, think, languag employ legislature. sheriff forbidden levi �plant crop� crop gathered. now, view taken major court, correct, right secur plaintiff execution, levi crop gathered, may frustrated, case, sale defend execution, whilst crop immatur state. construct put upon statute, involv singular animal, legislature, protect debtor, forbidden plaintiff execut sell properti debtor, condit bring value, yet permit debtor, voluntarily, sale, submit sacrifice, benefit. is, effect, gift defend execution, grow crop, provid gather himself, dispos condition. this, feel thorough conviction, intent legislature; secur loss, prohibit levi sale crop, gathered, temporari suspens right sell, ceased. situat 5 all. 740, 1843 we 284 end document � 2019 thomson renters. claim origin u.s. govern works. bite refer (9) treatment titl date type depth headnote(s) cite 1. hooker v. jones� am�x 55 all. 266, 271 , all. grover convers cotton, count case. appeal circuit court hale. tri hon. m. j. scaffold. dec term 1876 case � cite 2. german, burr & co. v. marshal 47 all. 362, 376 , all. [grover convers cotton.] appeal citi court montgomery. tri hon. john d. cunningham. jan term 1872 case � cite 3. gibb v. manner 45 all. 329, 334 , all. [banishment; wages; waiter exemption.] appeal citi court montgomery. tri hon. john d. cunningham. jan term 1871 case � cite 4. mckenzi v. ampl 31 all. 526, 527 , all. [trial right properti cotton.] appeal circuit court harbour. tri hon. s. d. hale. jan term 1858 case � cite 5. evan v. later 21 all. 333, 335+ , all. error circuit court autauga. tri hon. a. b. moore. run term 1852 case � cite 6. dewey v. woman 8 cal. 145, 147 , cal. judgment court below, jacob s. cohens, reversed, follow reasons: find court was, far cohen concerned,... juli term 1857 case � mention 7. tree v. coat 65 all. 256, 258 , all. grover convers three bale cotton. appeal circuit court etowah. tri hon. wm. l. whitlow. nov term 1880 case � mention 8. edward v. thompson 4 s.w. 913, 914 , tenn. appeal circuit court, weakli county. may 1887 case � � 9. grow crop subject levi seizur attach execut 103 a.l.r. 464 generally, common law, grow crop rais annual planting, still attach soil, regard person chattel, subject levi seizur attachment... 1936 all � � tabl author (3) treatment refer titl type depth quot page number mention 1. austin v. lawyer 9 cow. 39, n.y.sup., 1828 patrol evid admiss contradict, substanti vary, written contract. a. quit-claim land w., crop wheat growing, reserv the... case 2 cite 2. person v. hayfield 5 port. 182, all., 1837 writ error circuit court tuskaloosa. case 2+ mention 3. stewart v. doughi 9 john. 108, n.y.sup., 1812 a. let b. farm six years, a. agre �to render, yield pay a. one half wheat, rye, corn grain, rais farm year, the... case 2 file file situation. neg treatment neg treatment result situation. histori histori result situation.\n"
          ],
          "name": "stdout"
        }
      ]
    },
    {
      "cell_type": "code",
      "metadata": {
        "colab": {
          "base_uri": "https://localhost:8080/",
          "height": 402
        },
        "id": "swaavoer3BNw",
        "outputId": "b479f3d1-e158-46cc-c12c-bafe4962eda9"
      },
      "source": [
        "import pandas as pd\r\n",
        "data_frame = pd.DataFrame({'Sentence' :content.split('.')})\r\n",
        "data_frame.to_csv('corrected_text.csv')\r\n",
        "data_frame\r\n",
        "\r\n"
      ],
      "execution_count": 75,
      "outputs": [
        {
          "output_type": "execute_result",
          "data": {
            "text/html": [
              "<div>\n",
              "<style scoped>\n",
              "    .dataframe tbody tr th:only-of-type {\n",
              "        vertical-align: middle;\n",
              "    }\n",
              "\n",
              "    .dataframe tbody tr th {\n",
              "        vertical-align: top;\n",
              "    }\n",
              "\n",
              "    .dataframe thead th {\n",
              "        text-align: right;\n",
              "    }\n",
              "</style>\n",
              "<table border=\"1\" class=\"dataframe\">\n",
              "  <thead>\n",
              "    <tr style=\"text-align: right;\">\n",
              "      <th></th>\n",
              "      <th>Sentence</th>\n",
              "    </tr>\n",
              "  </thead>\n",
              "  <tbody>\n",
              "    <tr>\n",
              "      <th>0</th>\n",
              "      <td>5 all</td>\n",
              "    </tr>\n",
              "    <tr>\n",
              "      <th>1</th>\n",
              "      <td>740 suprem court alabama</td>\n",
              "    </tr>\n",
              "    <tr>\n",
              "      <th>2</th>\n",
              "      <td>adam v</td>\n",
              "    </tr>\n",
              "    <tr>\n",
              "      <th>3</th>\n",
              "      <td>manner norton</td>\n",
              "    </tr>\n",
              "    <tr>\n",
              "      <th>4</th>\n",
              "      <td>june term, 1843</td>\n",
              "    </tr>\n",
              "    <tr>\n",
              "      <th>...</th>\n",
              "      <td>...</td>\n",
              "    </tr>\n",
              "    <tr>\n",
              "      <th>287</th>\n",
              "      <td></td>\n",
              "    </tr>\n",
              "    <tr>\n",
              "      <th>288</th>\n",
              "      <td>case 2 file file situation</td>\n",
              "    </tr>\n",
              "    <tr>\n",
              "      <th>289</th>\n",
              "      <td>neg treatment neg treatment result situation</td>\n",
              "    </tr>\n",
              "    <tr>\n",
              "      <th>290</th>\n",
              "      <td>histori histori result situation</td>\n",
              "    </tr>\n",
              "    <tr>\n",
              "      <th>291</th>\n",
              "      <td></td>\n",
              "    </tr>\n",
              "  </tbody>\n",
              "</table>\n",
              "<p>292 rows × 1 columns</p>\n",
              "</div>"
            ],
            "text/plain": [
              "                                          Sentence\n",
              "0                                            5 all\n",
              "1                         740 suprem court alabama\n",
              "2                                           adam v\n",
              "3                                    manner norton\n",
              "4                                  june term, 1843\n",
              "..                                             ...\n",
              "287                                               \n",
              "288                     case 2 file file situation\n",
              "289   neg treatment neg treatment result situation\n",
              "290               histori histori result situation\n",
              "291                                               \n",
              "\n",
              "[292 rows x 1 columns]"
            ]
          },
          "metadata": {
            "tags": []
          },
          "execution_count": 75
        }
      ]
    },
    {
      "cell_type": "markdown",
      "metadata": {
        "id": "BBiC4E_kefvV"
      },
      "source": [
        "# 2. Python Regular Expression"
      ]
    },
    {
      "cell_type": "code",
      "metadata": {
        "id": "sQdfaiSXzkvd"
      },
      "source": [
        ""
      ],
      "execution_count": null,
      "outputs": []
    },
    {
      "cell_type": "code",
      "metadata": {
        "id": "CQNUJ8mHw85M"
      },
      "source": [
        ""
      ],
      "execution_count": null,
      "outputs": []
    },
    {
      "cell_type": "code",
      "metadata": {
        "id": "S29IMUQlw9Pg"
      },
      "source": [
        ""
      ],
      "execution_count": null,
      "outputs": []
    },
    {
      "cell_type": "markdown",
      "metadata": {
        "id": "Z1QJ-UwCenvN"
      },
      "source": [
        "## 2.1 Write a Python program to remove leading zeros from an IP address. (4 points)\n",
        "\n",
        "ip = \"260.08.094.109\""
      ]
    },
    {
      "cell_type": "code",
      "metadata": {
        "colab": {
          "base_uri": "https://localhost:8080/"
        },
        "id": "wSv6fVhOfFmv",
        "outputId": "3e5587f5-2ee9-49a4-fadf-68ab3bfbee1b"
      },
      "source": [
        "import re\n",
        "ip = \"260.08.094.109\"\n",
        "i_addr = re.sub('\\.[0]*', '.', ip)\n",
        "print(i_addr)\n",
        "\n",
        "\n"
      ],
      "execution_count": null,
      "outputs": [
        {
          "output_type": "stream",
          "text": [
            "260.8.94.109\n"
          ],
          "name": "stdout"
        }
      ]
    },
    {
      "cell_type": "markdown",
      "metadata": {
        "id": "PXRjaHzrfKAy"
      },
      "source": [
        "## 2.2 Write a Python Program to extract all the years from the following sentence. (4 points)\n",
        "\n",
        "sentence = \"The 2010s were a dramatic decade, filled with ups and downs, more than 1000 stroies have happened. As the decade comes to a close, Insider took a look back at some of the biggest headline-grabbing stories, from 2010 to 2019. The result was 119 news stories that ranged from the heartwarming rescue of a Thai boys' soccer team from a flooded cave to the divisive election of President Donald Trump.\""
      ]
    },
    {
      "cell_type": "code",
      "metadata": {
        "colab": {
          "base_uri": "https://localhost:8080/"
        },
        "id": "7xdJpDx9gjbX",
        "outputId": "bd0e796b-6d39-47e5-a5f8-b681bcc7527d"
      },
      "source": [
        "import re\r\n",
        "a= \"The 2010s were a dramatic decade, filled with ups and downs, more than 1000 stroies have happened. As the decade comes to a close, Insider took a look back at some of the biggest headline-grabbing stories, from 2010 to 2019. The result was 119 news stories that ranged from the heartwarming rescue of a Thai boys' soccer team from a flooded cave to the divisive election of President Donald Trump.\"\r\n",
        "y= re.findall(r'2\\d\\d\\d', a)\r\n",
        "print(\"Available years in the following sentence:'\",y)"
      ],
      "execution_count": null,
      "outputs": [
        {
          "output_type": "stream",
          "text": [
            "Available years in the following sentence:' ['2010', '2010', '2019']\n"
          ],
          "name": "stdout"
        }
      ]
    }
  ]
}